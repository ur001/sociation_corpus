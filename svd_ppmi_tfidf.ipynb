{
 "cells": [
  {
   "cell_type": "markdown",
   "metadata": {},
   "source": [
    "# Sociation2Vec\n",
    "Embedding-и слов аналогичные word2vec из базы ассоциаций [Sociation.org](http://sociation.org)"
   ]
  },
  {
   "cell_type": "code",
   "execution_count": 1,
   "metadata": {
    "collapsed": true
   },
   "outputs": [],
   "source": [
    "import os\n",
    "import pandas as pd\n",
    "import numpy as np\n",
    "import seaborn as sns\n",
    "from tqdm import tqdm_notebook as progress\n",
    "import gensim\n",
    "import pickle"
   ]
  },
  {
   "cell_type": "code",
   "execution_count": 2,
   "metadata": {},
   "outputs": [
    {
     "name": "stdout",
     "output_type": "stream",
     "text": [
      "Populating the interactive namespace from numpy and matplotlib\n"
     ]
    }
   ],
   "source": [
    "data_dir = \"/Users/ur001/Documents/Sociation/Corpora/sociation_org_corpus\"\n",
    "random_state = 777\n",
    "\n",
    "%pylab inline\n",
    "%config InlineBackend.figure_format = 'svg' \n",
    "%config InlineBackend.figure_format = 'retina'\n",
    "\n",
    "# отключаем ворнинги\n",
    "import warnings\n",
    "warnings.simplefilter('ignore')\n",
    "\n",
    "# дефолтный размер графиков\n",
    "from pylab import rcParams\n",
    "rcParams['figure.figsize'] = 14,9"
   ]
  },
  {
   "cell_type": "markdown",
   "metadata": {},
   "source": [
    "### Лучший на данный момент вариант\n",
    " - corpus\n",
    " - normalize_matrix\n",
    " - ppmi (0.75, 5)\n",
    " - tfidf (по словам)\n",
    " - svd 800\n",
    " - normalize_matrix\n",
    " - normalize_l2 (при получении вектора слова)\n",
    " \n",
    "```python\n",
    "corpus, words_dict, assoc_dict = load_source_corpus()\n",
    "corpus_csc = corpus_to_sparse(corpus)\n",
    "corpus_csc = normalize_matrix(corpus_csc, with_mean=False)\n",
    "corpus_ppmi = get_ppmi_weight(corpus_csc, cds=0.75, k=5)\n",
    "tfidf, corpus_ppmi = get_tfidf(corpus_ppmi)\n",
    "svd, corpus_ppmi_svd = get_svd(corpus_ppmi, 800)\n",
    "corpus_ppmi_svd = normalize_matrix(corpus_ppmi_svd)\n",
    "similarity_index = create_similarity_index(corpus_ppmi_svd)\n",
    "sociation2vec = Sociation2Vec(svd, corpus_ppmi_svd, similarity_index, words_dict, assoc_dict)\n",
    "```"
   ]
  },
  {
   "cell_type": "markdown",
   "metadata": {},
   "source": [
    "## Вспомогательные функции"
   ]
  },
  {
   "cell_type": "code",
   "execution_count": 258,
   "metadata": {
    "collapsed": true
   },
   "outputs": [],
   "source": [
    "from scipy.sparse import dok_matrix, csr_matrix, save_npz, load_npz, issparse\n",
    "from sklearn.decomposition import TruncatedSVD, NMF\n",
    "from sklearn.feature_extraction.text import TfidfTransformer\n",
    "from sklearn.preprocessing import scale\n",
    "\n",
    "\n",
    "def get_csr_matrix_from_xyval_list(xyval_list, dtype=np.float32):\n",
    "    \"\"\"Создаёт CSR матрицу из списка [(x, y, value), ...]\"\"\"\n",
    "    x, y, value = zip(*xyval_list)\n",
    "    matrix = csr_matrix((value, (x, y)), dtype=dtype)\n",
    "    matrix.eliminate_zeros()\n",
    "    return matrix\n",
    "\n",
    "\n",
    "def multiply_by_rows(matrix, row_coefs):\n",
    "    \"\"\"Умножает разреженную матрицу построчно на вектор\"\"\"\n",
    "    normalizer = dok_matrix((len(row_coefs), len(row_coefs)))\n",
    "    normalizer.setdiag(row_coefs)\n",
    "    return normalizer.tocsr().dot(matrix)\n",
    "\n",
    "\n",
    "def multiply_by_columns(matrix, col_coefs):\n",
    "    \"\"\"Умножает разреженную матрицу поколоночно на вектор\"\"\"\n",
    "    normalizer = dok_matrix((len(col_coefs), len(col_coefs)))\n",
    "    normalizer.setdiag(col_coefs)\n",
    "    return matrix.dot(normalizer.tocsr())\n",
    "\n",
    "\n",
    "def get_ppmi_weight(matrix, cds=0.75, k=5):\n",
    "    \"\"\"Рассчёт PPMI для разреженной матрицы\"\"\"\n",
    "    marginal_rows = np.array(matrix.sum(axis=1))[:, 0]\n",
    "    marginal_cols = np.array(matrix.sum(axis=0))[0, :] ** cds\n",
    "    pmi = matrix * marginal_cols.sum()\n",
    "    pmi = multiply_by_rows(pmi, np.reciprocal(marginal_rows))\n",
    "    pmi = multiply_by_columns(pmi, np.reciprocal(marginal_cols))\n",
    "    pmi.data = (np.log2(pmi.data) - np.log(k)).clip(0.0)\n",
    "    return pmi\n",
    "\n",
    "\n",
    "def get_svd(matrix, n_components, n_iter=10):\n",
    "    \"\"\"Факторизация матрицы c помощью SVD\"\"\"\n",
    "    svd = TruncatedSVD(n_components=n_components, n_iter=n_iter, random_state=random_state)\n",
    "    return svd, svd.fit_transform(matrix)\n",
    "\n",
    "\n",
    "def get_nmf(matrix, n_components, alpha=0.1, l1_ratio=0.5):\n",
    "    \"\"\"Факторизация матрицы c помощью NMF\"\"\"\n",
    "    nmf = NMF(n_components=n_components, alpha=alpha, l1_ratio=l1_ratio, random_state=random_state)\n",
    "    return nmf, nmf.fit_transform(matrix)\n",
    "\n",
    "\n",
    "def get_tfidf(matrix, smooth_idf=True, sublinear_tf=False):\n",
    "    \"\"\"\n",
    "    Применение TfIdf к матрице, \n",
    "    TODO: попробовать оставить один IDF\n",
    "    \"\"\"\n",
    "    tfidf = TfidfTransformer(smooth_idf=smooth_idf, sublinear_tf=sublinear_tf)\n",
    "    return tfidf, tfidf.fit_transform(matrix)\n",
    "\n",
    "\n",
    "def normalize_matrix(matrix, with_mean=True):\n",
    "    \"\"\"\n",
    "    Нормализация матрицы (aka «стандартизация», -mean/std)\n",
    "    Дважды транспонируется так как scale не хочет нормализовать разреженные матрицы по строкам\n",
    "    \"\"\"\n",
    "    return scale(matrix.T, with_mean=with_mean).T"
   ]
  },
  {
   "cell_type": "code",
   "execution_count": 266,
   "metadata": {
    "collapsed": true
   },
   "outputs": [],
   "source": [
    "def corpus_to_sparse(corpus, words_count, assoc_count):\n",
    "    return gensim.matutils.corpus2csc(corpus, num_terms=assoc_count, num_docs=words_count).T\n",
    "\n",
    "def sparse_to_corpus(matrix):\n",
    "    return gensim.matutils.Sparse2Corpus(matrix.T)\n",
    "\n",
    "def dense_to_corpus(matrix):\n",
    "    return gensim.matutils.Dense2Corpus(matrix.T)"
   ]
  },
  {
   "cell_type": "code",
   "execution_count": 267,
   "metadata": {
    "collapsed": true
   },
   "outputs": [],
   "source": [
    "def save_model(model, name):\n",
    "    file_path = os.path.join(data_dir, name + \".pkl\")\n",
    "    print('Saving model to', file_path)\n",
    "    with open(file_path, 'wb') as file:  \n",
    "        pickle.dump(model, file)\n",
    "        \n",
    "def load_model(name):\n",
    "    file_path = os.path.join(data_dir, name + \".pkl\")\n",
    "    print('Loading model from', file_path)\n",
    "    with open(file_path, 'rb') as file:  \n",
    "        return pickle.load(file)\n",
    "    \n",
    "def save_corpus(corpus, name):\n",
    "    file_path = os.path.join(data_dir, name + \".npy\")\n",
    "    print('Saving corpus to', file_path)\n",
    "    np.save(file_path, corpus)\n",
    "        \n",
    "def load_corpus(name):\n",
    "    file_path = os.path.join(data_dir, name + \".npy\")\n",
    "    print('Loading corpus from', file_path)\n",
    "    return np.load(file_path)\n",
    "\n",
    "def create_similarity_index(corpus, name):\n",
    "    if not gensim.matutils.isbow(corpus):\n",
    "        corpus = dense_to_corpus(corpus)\n",
    "    print(\"Creating similarity index...\")\n",
    "    similarity_index = gensim.similarities.MatrixSimilarity(corpus)\n",
    "    file_path = os.path.join(data_dir, name + \".index\")\n",
    "    print('Saving similarity index to', file_path)\n",
    "    similarity_index.save(file_path)\n",
    "    return similarity_index\n",
    "\n",
    "def load_similarity_index(name):\n",
    "    file_path = os.path.join(data_dir, name + \".index\")\n",
    "    print('Loading similarity index from', file_path)\n",
    "    return gensim.similarities.MatrixSimilarity.load(file_path)"
   ]
  },
  {
   "cell_type": "markdown",
   "metadata": {},
   "source": [
    "## Загрузка словарей и корпуса ассоциаций"
   ]
  },
  {
   "cell_type": "code",
   "execution_count": 268,
   "metadata": {
    "collapsed": true
   },
   "outputs": [],
   "source": [
    "from sociation_corpus.utils import DictEncoder\n",
    "from sociation_corpus.train_model import load_source_corpus"
   ]
  },
  {
   "cell_type": "code",
   "execution_count": 269,
   "metadata": {},
   "outputs": [
    {
     "name": "stdout",
     "output_type": "stream",
     "text": [
      "Loading source corpus...\n",
      "Loading words index...\n",
      "Loading assoc words index...\n",
      "Слов: 29049, Слов-ассоциаций: 44342\n"
     ]
    }
   ],
   "source": [
    "corpus, words_dict, assoc_dict = load_source_corpus(data_dir)\n",
    "words_count = len(words_dict.decode)\n",
    "assoc_count = len(assoc_dict.decode)\n",
    "print(\"Слов: {}, Слов-ассоциаций: {}\".format(words_count, assoc_count))"
   ]
  },
  {
   "cell_type": "code",
   "execution_count": 261,
   "metadata": {
    "collapsed": true
   },
   "outputs": [],
   "source": [
    "from operator import itemgetter\n",
    "\n",
    "def get_associations(word_name, count=None, corpus=corpus):\n",
    "    \"\"\"Ассоциации к слову\"\"\"\n",
    "    associations = [\n",
    "        (assoc_dict.decode[assoc_id], popularity)\n",
    "        for assoc_id, popularity\n",
    "        in sorted(corpus[words_dict.encode[word_name]], key=itemgetter(1), reverse=True)\n",
    "    ]\n",
    "    count = count or len(associations)\n",
    "    return pd.DataFrame(associations[:count], columns=['word', 'popularity']).set_index('word')"
   ]
  },
  {
   "cell_type": "code",
   "execution_count": 262,
   "metadata": {},
   "outputs": [
    {
     "data": {
      "text/html": [
       "<div>\n",
       "<style scoped>\n",
       "    .dataframe tbody tr th:only-of-type {\n",
       "        vertical-align: middle;\n",
       "    }\n",
       "\n",
       "    .dataframe tbody tr th {\n",
       "        vertical-align: top;\n",
       "    }\n",
       "\n",
       "    .dataframe thead th {\n",
       "        text-align: right;\n",
       "    }\n",
       "</style>\n",
       "<table border=\"1\" class=\"dataframe\">\n",
       "  <thead>\n",
       "    <tr style=\"text-align: right;\">\n",
       "      <th></th>\n",
       "      <th>popularity</th>\n",
       "    </tr>\n",
       "    <tr>\n",
       "      <th>word</th>\n",
       "      <th></th>\n",
       "    </tr>\n",
       "  </thead>\n",
       "  <tbody>\n",
       "    <tr>\n",
       "      <th>структура</th>\n",
       "      <td>5.33333</td>\n",
       "    </tr>\n",
       "    <tr>\n",
       "      <th>государство</th>\n",
       "      <td>5.00000</td>\n",
       "    </tr>\n",
       "    <tr>\n",
       "      <th>порядок</th>\n",
       "      <td>4.81250</td>\n",
       "    </tr>\n",
       "    <tr>\n",
       "      <th>ниппель</th>\n",
       "      <td>3.00000</td>\n",
       "    </tr>\n",
       "    <tr>\n",
       "      <th>комплекс</th>\n",
       "      <td>2.00000</td>\n",
       "    </tr>\n",
       "  </tbody>\n",
       "</table>\n",
       "</div>"
      ],
      "text/plain": [
       "             popularity\n",
       "word                   \n",
       "структура       5.33333\n",
       "государство     5.00000\n",
       "порядок         4.81250\n",
       "ниппель         3.00000\n",
       "комплекс        2.00000"
      ]
     },
     "execution_count": 262,
     "metadata": {},
     "output_type": "execute_result"
    }
   ],
   "source": [
    "get_associations('система').head()"
   ]
  },
  {
   "cell_type": "markdown",
   "metadata": {},
   "source": [
    "## Нормализация, PPMI, TF-IDF"
   ]
  },
  {
   "cell_type": "code",
   "execution_count": 271,
   "metadata": {},
   "outputs": [
    {
     "data": {
      "text/plain": [
       "((29049, 44342), (29049, 44342))"
      ]
     },
     "execution_count": 271,
     "metadata": {},
     "output_type": "execute_result"
    }
   ],
   "source": [
    "corpus_csc = corpus_to_sparse(corpus, words_count, assoc_count)\n",
    "corpus_csc.shape, (words_count, assoc_count)"
   ]
  },
  {
   "cell_type": "code",
   "execution_count": 272,
   "metadata": {
    "collapsed": true
   },
   "outputs": [],
   "source": [
    "corpus_csc = normalize_matrix(corpus_csc, with_mean=False)"
   ]
  },
  {
   "cell_type": "code",
   "execution_count": 273,
   "metadata": {},
   "outputs": [
    {
     "data": {
      "text/plain": [
       "(29049, 44342)"
      ]
     },
     "execution_count": 273,
     "metadata": {},
     "output_type": "execute_result"
    }
   ],
   "source": [
    "corpus_ppmi = get_ppmi_weight(corpus_csc, cds=0.75, k=5)\n",
    "corpus_ppmi.shape"
   ]
  },
  {
   "cell_type": "code",
   "execution_count": 274,
   "metadata": {},
   "outputs": [
    {
     "data": {
      "text/plain": [
       "(29049, 44342)"
      ]
     },
     "execution_count": 274,
     "metadata": {},
     "output_type": "execute_result"
    }
   ],
   "source": [
    "tfidf, corpus_ppmi = get_tfidf(corpus_ppmi)\n",
    "corpus_ppmi.shape"
   ]
  },
  {
   "cell_type": "code",
   "execution_count": 275,
   "metadata": {},
   "outputs": [
    {
     "data": {
      "text/html": [
       "<div>\n",
       "<style scoped>\n",
       "    .dataframe tbody tr th:only-of-type {\n",
       "        vertical-align: middle;\n",
       "    }\n",
       "\n",
       "    .dataframe tbody tr th {\n",
       "        vertical-align: top;\n",
       "    }\n",
       "\n",
       "    .dataframe thead th {\n",
       "        text-align: right;\n",
       "    }\n",
       "</style>\n",
       "<table border=\"1\" class=\"dataframe\">\n",
       "  <thead>\n",
       "    <tr style=\"text-align: right;\">\n",
       "      <th></th>\n",
       "      <th>popularity</th>\n",
       "    </tr>\n",
       "    <tr>\n",
       "      <th>word</th>\n",
       "      <th></th>\n",
       "    </tr>\n",
       "  </thead>\n",
       "  <tbody>\n",
       "    <tr>\n",
       "      <th>симплекс-метод</th>\n",
       "      <td>0.175352</td>\n",
       "    </tr>\n",
       "    <tr>\n",
       "      <th>энергоснабжение</th>\n",
       "      <td>0.175352</td>\n",
       "    </tr>\n",
       "    <tr>\n",
       "      <th>подсистема</th>\n",
       "      <td>0.159927</td>\n",
       "    </tr>\n",
       "    <tr>\n",
       "      <th>операционка</th>\n",
       "      <td>0.154537</td>\n",
       "    </tr>\n",
       "    <tr>\n",
       "      <th>функциональность</th>\n",
       "      <td>0.145172</td>\n",
       "    </tr>\n",
       "    <tr>\n",
       "      <th>хря</th>\n",
       "      <td>0.128002</td>\n",
       "    </tr>\n",
       "    <tr>\n",
       "      <th>метаистория</th>\n",
       "      <td>0.123938</td>\n",
       "    </tr>\n",
       "    <tr>\n",
       "      <th>слом</th>\n",
       "      <td>0.119197</td>\n",
       "    </tr>\n",
       "    <tr>\n",
       "      <th>эмерджентность</th>\n",
       "      <td>0.116363</td>\n",
       "    </tr>\n",
       "    <tr>\n",
       "      <th>компоненты</th>\n",
       "      <td>0.115590</td>\n",
       "    </tr>\n",
       "  </tbody>\n",
       "</table>\n",
       "</div>"
      ],
      "text/plain": [
       "                  popularity\n",
       "word                        \n",
       "симплекс-метод      0.175352\n",
       "энергоснабжение     0.175352\n",
       "подсистема          0.159927\n",
       "операционка         0.154537\n",
       "функциональность    0.145172\n",
       "хря                 0.128002\n",
       "метаистория         0.123938\n",
       "слом                0.119197\n",
       "эмерджентность      0.116363\n",
       "компоненты          0.115590"
      ]
     },
     "execution_count": 275,
     "metadata": {},
     "output_type": "execute_result"
    }
   ],
   "source": [
    "get_associations('система', corpus=sparse_to_corpus(corpus_ppmi)).head(10)"
   ]
  },
  {
   "cell_type": "markdown",
   "metadata": {},
   "source": [
    "## Факторизация PPMI-матрицы с помощью SVD"
   ]
  },
  {
   "cell_type": "code",
   "execution_count": 19,
   "metadata": {},
   "outputs": [
    {
     "name": "stdout",
     "output_type": "stream",
     "text": [
      "Loading corpus from /Users/ur001/Documents/Sociation/Corpora/sociation_org_corpus/corpus_norm_ppmi_svd_norm_800.npy\n",
      "Loading model from /Users/ur001/Documents/Sociation/Corpora/sociation_org_corpus/svd_800_norm_ppmi_model.pkl\n"
     ]
    }
   ],
   "source": [
    "# Загрузка корпуса и SVD модели\n",
    "corpus_ppmi_svd = load_corpus('corpus_norm_ppmi_svd_norm_800')\n",
    "svd = load_model('svd_800_norm_ppmi_model')"
   ]
  },
  {
   "cell_type": "markdown",
   "metadata": {
    "collapsed": true
   },
   "source": [
    "**ИЛИ**"
   ]
  },
  {
   "cell_type": "code",
   "execution_count": 21,
   "metadata": {},
   "outputs": [
    {
     "name": "stdout",
     "output_type": "stream",
     "text": [
      "Saving corpus to /Users/ur001/Documents/Sociation/Corpora/sociation_org_corpus/corpus_norm_ppmi_svd_norm_800.npy\n",
      "Saving model to /Users/ur001/Documents/Sociation/Corpora/sociation_org_corpus/svd_800_norm_ppmi_model.pkl\n"
     ]
    }
   ],
   "source": [
    "# Создание и сохранение корпуса и SVD модели\n",
    "svd, corpus_ppmi_svd = get_svd(corpus_ppmi, 800)\n",
    "corpus_ppmi_svd = normalize_matrix(corpus_ppmi_svd)\n",
    "save_corpus(corpus_ppmi_svd, 'corpus_norm_ppmi_svd_norm_800')\n",
    "save_model(svd, 'svd_800_norm_ppmi_model')"
   ]
  },
  {
   "cell_type": "code",
   "execution_count": 188,
   "metadata": {},
   "outputs": [
    {
     "data": {
      "text/plain": [
       "(29049, 800)"
      ]
     },
     "execution_count": 188,
     "metadata": {},
     "output_type": "execute_result"
    }
   ],
   "source": [
    "corpus_ppmi_svd.shape"
   ]
  },
  {
   "cell_type": "markdown",
   "metadata": {},
   "source": [
    "## Загрузка или создание/сохранение индекса"
   ]
  },
  {
   "cell_type": "code",
   "execution_count": 21,
   "metadata": {},
   "outputs": [
    {
     "name": "stdout",
     "output_type": "stream",
     "text": [
      "Loading similarity index from /Users/ur001/Documents/Sociation/Corpora/sociation_org_corpus/corpus_norm_ppmi_svd_norm_800.index\n"
     ]
    }
   ],
   "source": [
    "# Загрузка индекса\n",
    "similarity_index = load_similarity_index('corpus_norm_ppmi_svd_norm_800')"
   ]
  },
  {
   "cell_type": "markdown",
   "metadata": {},
   "source": [
    "**ИЛИ**"
   ]
  },
  {
   "cell_type": "code",
   "execution_count": 277,
   "metadata": {},
   "outputs": [
    {
     "name": "stdout",
     "output_type": "stream",
     "text": [
      "Creating similarity index...\n",
      "Saving similarity index to /Users/ur001/Documents/Sociation/Corpora/sociation_org_corpus/corpus_norm_ppmi_svd_norm_800.index\n"
     ]
    }
   ],
   "source": [
    "# Создание и сохранение индекса\n",
    "similarity_index = create_similarity_index(corpus_ppmi_svd, 'corpus_norm_ppmi_svd_norm_800')"
   ]
  },
  {
   "cell_type": "markdown",
   "metadata": {},
   "source": [
    "## Смотрим что вышло"
   ]
  },
  {
   "cell_type": "code",
   "execution_count": 190,
   "metadata": {
    "collapsed": true
   },
   "outputs": [],
   "source": [
    "def normalize_l2(vec):\n",
    "    norm = np.linalg.norm(vec)\n",
    "    if norm != 0: \n",
    "       vec = vec / norm\n",
    "    return vec\n",
    "\n",
    "\n",
    "def bow2nparray_vec(vec):\n",
    "    return np.array(list(map(itemgetter(1), vec)))\n",
    "\n",
    "\n",
    "def nparray2bow_vec(vec):\n",
    "    return [(idx, val) for idx, val in enumerate(vec) if val]\n",
    "\n",
    "\n",
    "class Sociation2Vec(object):\n",
    "    \"\"\"\n",
    "    Поиск похожих слов по факторизованной матрице PPMI из ассоциаций с Sociation.org\n",
    "    \"\"\"\n",
    "    def __init__(self, model_svd, corpus, similarity_index, words_dict, assoc_dict):\n",
    "        self.model = model_svd\n",
    "        self.corpus = corpus\n",
    "        self.similarity_index = similarity_index\n",
    "        self.words_dict = words_dict\n",
    "        self.assoc_dict = assoc_dict\n",
    "\n",
    "    def get_word_vector(self, word_name): \n",
    "        \"\"\"\n",
    "        Возвращает вектор слова\n",
    "        Тут слово — это документ в терминах корпуса\n",
    "        Слову соответствует вектор ассоциаций преобразованный в LSI-простраство\n",
    "        :rtype: np.array\n",
    "        \"\"\"\n",
    "        mul = -1 if word_name.startswith('-') else 1\n",
    "        corpus_idx = self.words_dict.encode[word_name.strip('-')]\n",
    "        word_vec = self.corpus[corpus_idx]\n",
    "        return normalize_l2(word_vec * mul)\n",
    "    \n",
    "    def get_top_similar_to_words(self, word_names, count=15):\n",
    "        \"\"\"\n",
    "        Выводит топ похожих слов на указанные\n",
    "        Можно несколько через запятую и через минус: король,-мужчина,женщина = королева\n",
    "        \"\"\"\n",
    "        # Должно быть так:\n",
    "        # word_vec = nparray2bow_vec(sum(map(self.get_word_lsi_vector, word_names)))\n",
    "        # Почему-то в глобальном `sum` оказался np.sum, и он не суммирует векторы как надо\n",
    "        # По этому временно такой бред:\n",
    "        vecs = list(map(self.get_word_vector, word_names))\n",
    "        word_vec = vecs[0]\n",
    "        for vec2 in vecs[1:]:\n",
    "            word_vec += vec2\n",
    "        word_vec = nparray2bow_vec(word_vec)\n",
    "        \n",
    "        return self.get_top_similar(word_vec, count, exclude=word_names)   \n",
    "    \n",
    "    def get_top_similar(self, word_vec, count=15, exclude=None):\n",
    "        exclude = {self.words_dict.encode[item.strip('-')] for item in (exclude or [])}\n",
    "        similarity = self.similarity_index[word_vec]\n",
    "        top = sorted(enumerate(similarity), key=itemgetter(1), reverse=True)[:count + len(exclude)]\n",
    "        return [\n",
    "            (self.words_dict.decode[word_idx], similarity) \n",
    "            for word_idx, similarity in top\n",
    "            if word_idx not in exclude\n",
    "        ][:count]"
   ]
  },
  {
   "cell_type": "code",
   "execution_count": 191,
   "metadata": {
    "collapsed": true
   },
   "outputs": [],
   "source": [
    "sociation2vec = Sociation2Vec(svd, corpus_ppmi_svd, similarity_index, words_dict, assoc_dict)"
   ]
  },
  {
   "cell_type": "code",
   "execution_count": 192,
   "metadata": {
    "collapsed": true
   },
   "outputs": [],
   "source": [
    "def get_similar(word_names, sociation2vec=sociation2vec, count=10):\n",
    "    \"\"\"Ассоциации к слову\"\"\"\n",
    "    word_names = word_names.split(',')\n",
    "    similar = sociation2vec.get_top_similar_to_words(word_names, count=count)\n",
    "    return pd.DataFrame(similar, columns=['word', 'similarity']).set_index('word')"
   ]
  },
  {
   "cell_type": "code",
   "execution_count": 279,
   "metadata": {},
   "outputs": [
    {
     "data": {
      "text/html": [
       "<div>\n",
       "<style scoped>\n",
       "    .dataframe tbody tr th:only-of-type {\n",
       "        vertical-align: middle;\n",
       "    }\n",
       "\n",
       "    .dataframe tbody tr th {\n",
       "        vertical-align: top;\n",
       "    }\n",
       "\n",
       "    .dataframe thead th {\n",
       "        text-align: right;\n",
       "    }\n",
       "</style>\n",
       "<table border=\"1\" class=\"dataframe\">\n",
       "  <thead>\n",
       "    <tr style=\"text-align: right;\">\n",
       "      <th></th>\n",
       "      <th>similarity</th>\n",
       "    </tr>\n",
       "    <tr>\n",
       "      <th>word</th>\n",
       "      <th></th>\n",
       "    </tr>\n",
       "  </thead>\n",
       "  <tbody>\n",
       "    <tr>\n",
       "      <th>королева</th>\n",
       "      <td>0.561213</td>\n",
       "    </tr>\n",
       "    <tr>\n",
       "      <th>корона</th>\n",
       "      <td>0.492371</td>\n",
       "    </tr>\n",
       "    <tr>\n",
       "      <th>царица</th>\n",
       "      <td>0.469780</td>\n",
       "    </tr>\n",
       "    <tr>\n",
       "      <th>королевство</th>\n",
       "      <td>0.457369</td>\n",
       "    </tr>\n",
       "    <tr>\n",
       "      <th>монархия</th>\n",
       "      <td>0.442670</td>\n",
       "    </tr>\n",
       "    <tr>\n",
       "      <th>трон</th>\n",
       "      <td>0.437980</td>\n",
       "    </tr>\n",
       "    <tr>\n",
       "      <th>императрица</th>\n",
       "      <td>0.429572</td>\n",
       "    </tr>\n",
       "    <tr>\n",
       "      <th>коронация</th>\n",
       "      <td>0.429451</td>\n",
       "    </tr>\n",
       "    <tr>\n",
       "      <th>монарх</th>\n",
       "      <td>0.426821</td>\n",
       "    </tr>\n",
       "    <tr>\n",
       "      <th>фаворитка</th>\n",
       "      <td>0.424992</td>\n",
       "    </tr>\n",
       "  </tbody>\n",
       "</table>\n",
       "</div>"
      ],
      "text/plain": [
       "             similarity\n",
       "word                   \n",
       "королева       0.561213\n",
       "корона         0.492371\n",
       "царица         0.469780\n",
       "королевство    0.457369\n",
       "монархия       0.442670\n",
       "трон           0.437980\n",
       "императрица    0.429572\n",
       "коронация      0.429451\n",
       "монарх         0.426821\n",
       "фаворитка      0.424992"
      ]
     },
     "execution_count": 279,
     "metadata": {},
     "output_type": "execute_result"
    }
   ],
   "source": [
    "get_similar('король,-мужчина,женщина')"
   ]
  },
  {
   "cell_type": "code",
   "execution_count": 194,
   "metadata": {},
   "outputs": [
    {
     "data": {
      "text/html": [
       "<div>\n",
       "<style scoped>\n",
       "    .dataframe tbody tr th:only-of-type {\n",
       "        vertical-align: middle;\n",
       "    }\n",
       "\n",
       "    .dataframe tbody tr th {\n",
       "        vertical-align: top;\n",
       "    }\n",
       "\n",
       "    .dataframe thead th {\n",
       "        text-align: right;\n",
       "    }\n",
       "</style>\n",
       "<table border=\"1\" class=\"dataframe\">\n",
       "  <thead>\n",
       "    <tr style=\"text-align: right;\">\n",
       "      <th></th>\n",
       "      <th>similarity</th>\n",
       "    </tr>\n",
       "    <tr>\n",
       "      <th>word</th>\n",
       "      <th></th>\n",
       "    </tr>\n",
       "  </thead>\n",
       "  <tbody>\n",
       "    <tr>\n",
       "      <th>королева</th>\n",
       "      <td>0.624136</td>\n",
       "    </tr>\n",
       "  </tbody>\n",
       "</table>\n",
       "</div>"
      ],
      "text/plain": [
       "          similarity\n",
       "word                \n",
       "королева    0.624136"
      ]
     },
     "execution_count": 194,
     "metadata": {},
     "output_type": "execute_result"
    }
   ],
   "source": [
    "get_similar('король,-брат,сестра', count=1)"
   ]
  },
  {
   "cell_type": "code",
   "execution_count": 195,
   "metadata": {},
   "outputs": [
    {
     "data": {
      "text/html": [
       "<div>\n",
       "<style scoped>\n",
       "    .dataframe tbody tr th:only-of-type {\n",
       "        vertical-align: middle;\n",
       "    }\n",
       "\n",
       "    .dataframe tbody tr th {\n",
       "        vertical-align: top;\n",
       "    }\n",
       "\n",
       "    .dataframe thead th {\n",
       "        text-align: right;\n",
       "    }\n",
       "</style>\n",
       "<table border=\"1\" class=\"dataframe\">\n",
       "  <thead>\n",
       "    <tr style=\"text-align: right;\">\n",
       "      <th></th>\n",
       "      <th>similarity</th>\n",
       "    </tr>\n",
       "    <tr>\n",
       "      <th>word</th>\n",
       "      <th></th>\n",
       "    </tr>\n",
       "  </thead>\n",
       "  <tbody>\n",
       "    <tr>\n",
       "      <th>королева</th>\n",
       "      <td>0.565792</td>\n",
       "    </tr>\n",
       "  </tbody>\n",
       "</table>\n",
       "</div>"
      ],
      "text/plain": [
       "          similarity\n",
       "word                \n",
       "королева    0.565792"
      ]
     },
     "execution_count": 195,
     "metadata": {},
     "output_type": "execute_result"
    }
   ],
   "source": [
    "get_similar('король,-мальчик,девочка', count=1)"
   ]
  },
  {
   "cell_type": "code",
   "execution_count": 196,
   "metadata": {},
   "outputs": [
    {
     "data": {
      "text/html": [
       "<div>\n",
       "<style scoped>\n",
       "    .dataframe tbody tr th:only-of-type {\n",
       "        vertical-align: middle;\n",
       "    }\n",
       "\n",
       "    .dataframe tbody tr th {\n",
       "        vertical-align: top;\n",
       "    }\n",
       "\n",
       "    .dataframe thead th {\n",
       "        text-align: right;\n",
       "    }\n",
       "</style>\n",
       "<table border=\"1\" class=\"dataframe\">\n",
       "  <thead>\n",
       "    <tr style=\"text-align: right;\">\n",
       "      <th></th>\n",
       "      <th>similarity</th>\n",
       "    </tr>\n",
       "    <tr>\n",
       "      <th>word</th>\n",
       "      <th></th>\n",
       "    </tr>\n",
       "  </thead>\n",
       "  <tbody>\n",
       "    <tr>\n",
       "      <th>синоним</th>\n",
       "      <td>0.655544</td>\n",
       "    </tr>\n",
       "    <tr>\n",
       "      <th>гипоним</th>\n",
       "      <td>0.618039</td>\n",
       "    </tr>\n",
       "    <tr>\n",
       "      <th>аналогия</th>\n",
       "      <td>0.617473</td>\n",
       "    </tr>\n",
       "    <tr>\n",
       "      <th>схожесть</th>\n",
       "      <td>0.575375</td>\n",
       "    </tr>\n",
       "    <tr>\n",
       "      <th>гипероним</th>\n",
       "      <td>0.574386</td>\n",
       "    </tr>\n",
       "    <tr>\n",
       "      <th>подобие</th>\n",
       "      <td>0.571528</td>\n",
       "    </tr>\n",
       "    <tr>\n",
       "      <th>ассоциации</th>\n",
       "      <td>0.570339</td>\n",
       "    </tr>\n",
       "    <tr>\n",
       "      <th>похожесть</th>\n",
       "      <td>0.559030</td>\n",
       "    </tr>\n",
       "    <tr>\n",
       "      <th>сходство</th>\n",
       "      <td>0.552834</td>\n",
       "    </tr>\n",
       "    <tr>\n",
       "      <th>аналог</th>\n",
       "      <td>0.551679</td>\n",
       "    </tr>\n",
       "  </tbody>\n",
       "</table>\n",
       "</div>"
      ],
      "text/plain": [
       "            similarity\n",
       "word                  \n",
       "синоним       0.655544\n",
       "гипоним       0.618039\n",
       "аналогия      0.617473\n",
       "схожесть      0.575375\n",
       "гипероним     0.574386\n",
       "подобие       0.571528\n",
       "ассоциации    0.570339\n",
       "похожесть     0.559030\n",
       "сходство      0.552834\n",
       "аналог        0.551679"
      ]
     },
     "execution_count": 196,
     "metadata": {},
     "output_type": "execute_result"
    }
   ],
   "source": [
    "get_similar('ассоциация')"
   ]
  },
  {
   "cell_type": "code",
   "execution_count": 197,
   "metadata": {},
   "outputs": [
    {
     "data": {
      "text/html": [
       "<div>\n",
       "<style scoped>\n",
       "    .dataframe tbody tr th:only-of-type {\n",
       "        vertical-align: middle;\n",
       "    }\n",
       "\n",
       "    .dataframe tbody tr th {\n",
       "        vertical-align: top;\n",
       "    }\n",
       "\n",
       "    .dataframe thead th {\n",
       "        text-align: right;\n",
       "    }\n",
       "</style>\n",
       "<table border=\"1\" class=\"dataframe\">\n",
       "  <thead>\n",
       "    <tr style=\"text-align: right;\">\n",
       "      <th></th>\n",
       "      <th>similarity</th>\n",
       "    </tr>\n",
       "    <tr>\n",
       "      <th>word</th>\n",
       "      <th></th>\n",
       "    </tr>\n",
       "  </thead>\n",
       "  <tbody>\n",
       "    <tr>\n",
       "      <th>бытие</th>\n",
       "      <td>0.523264</td>\n",
       "    </tr>\n",
       "    <tr>\n",
       "      <th>существование</th>\n",
       "      <td>0.512623</td>\n",
       "    </tr>\n",
       "    <tr>\n",
       "      <th>рождение</th>\n",
       "      <td>0.502476</td>\n",
       "    </tr>\n",
       "  </tbody>\n",
       "</table>\n",
       "</div>"
      ],
      "text/plain": [
       "               similarity\n",
       "word                     \n",
       "бытие            0.523264\n",
       "существование    0.512623\n",
       "рождение         0.502476"
      ]
     },
     "execution_count": 197,
     "metadata": {},
     "output_type": "execute_result"
    }
   ],
   "source": [
    "get_similar('жизнь', count=3)"
   ]
  },
  {
   "cell_type": "code",
   "execution_count": 32,
   "metadata": {},
   "outputs": [
    {
     "data": {
      "text/html": [
       "<div>\n",
       "<style scoped>\n",
       "    .dataframe tbody tr th:only-of-type {\n",
       "        vertical-align: middle;\n",
       "    }\n",
       "\n",
       "    .dataframe tbody tr th {\n",
       "        vertical-align: top;\n",
       "    }\n",
       "\n",
       "    .dataframe thead th {\n",
       "        text-align: right;\n",
       "    }\n",
       "</style>\n",
       "<table border=\"1\" class=\"dataframe\">\n",
       "  <thead>\n",
       "    <tr style=\"text-align: right;\">\n",
       "      <th></th>\n",
       "      <th>similarity</th>\n",
       "    </tr>\n",
       "    <tr>\n",
       "      <th>word</th>\n",
       "      <th></th>\n",
       "    </tr>\n",
       "  </thead>\n",
       "  <tbody>\n",
       "    <tr>\n",
       "      <th>кооперация</th>\n",
       "      <td>0.439639</td>\n",
       "    </tr>\n",
       "    <tr>\n",
       "      <th>товарищество</th>\n",
       "      <td>0.438475</td>\n",
       "    </tr>\n",
       "    <tr>\n",
       "      <th>ленточные черви</th>\n",
       "      <td>0.423492</td>\n",
       "    </tr>\n",
       "    <tr>\n",
       "      <th>объединение</th>\n",
       "      <td>0.419562</td>\n",
       "    </tr>\n",
       "    <tr>\n",
       "      <th>коллаборация</th>\n",
       "      <td>0.417079</td>\n",
       "    </tr>\n",
       "    <tr>\n",
       "      <th>сотрудничество</th>\n",
       "      <td>0.416681</td>\n",
       "    </tr>\n",
       "    <tr>\n",
       "      <th>дружба</th>\n",
       "      <td>0.411037</td>\n",
       "    </tr>\n",
       "    <tr>\n",
       "      <th>взаимопомощь</th>\n",
       "      <td>0.408255</td>\n",
       "    </tr>\n",
       "    <tr>\n",
       "      <th>генотип</th>\n",
       "      <td>0.394466</td>\n",
       "    </tr>\n",
       "    <tr>\n",
       "      <th>гельминты</th>\n",
       "      <td>0.394032</td>\n",
       "    </tr>\n",
       "  </tbody>\n",
       "</table>\n",
       "</div>"
      ],
      "text/plain": [
       "                 similarity\n",
       "word                       \n",
       "кооперация         0.439639\n",
       "товарищество       0.438475\n",
       "ленточные черви    0.423492\n",
       "объединение        0.419562\n",
       "коллаборация       0.417079\n",
       "сотрудничество     0.416681\n",
       "дружба             0.411037\n",
       "взаимопомощь       0.408255\n",
       "генотип            0.394466\n",
       "гельминты          0.394032"
      ]
     },
     "execution_count": 32,
     "metadata": {},
     "output_type": "execute_result"
    }
   ],
   "source": [
    "get_similar('симбиоз')"
   ]
  },
  {
   "cell_type": "code",
   "execution_count": 33,
   "metadata": {},
   "outputs": [
    {
     "data": {
      "text/html": [
       "<div>\n",
       "<style scoped>\n",
       "    .dataframe tbody tr th:only-of-type {\n",
       "        vertical-align: middle;\n",
       "    }\n",
       "\n",
       "    .dataframe tbody tr th {\n",
       "        vertical-align: top;\n",
       "    }\n",
       "\n",
       "    .dataframe thead th {\n",
       "        text-align: right;\n",
       "    }\n",
       "</style>\n",
       "<table border=\"1\" class=\"dataframe\">\n",
       "  <thead>\n",
       "    <tr style=\"text-align: right;\">\n",
       "      <th></th>\n",
       "      <th>similarity</th>\n",
       "    </tr>\n",
       "    <tr>\n",
       "      <th>word</th>\n",
       "      <th></th>\n",
       "    </tr>\n",
       "  </thead>\n",
       "  <tbody>\n",
       "    <tr>\n",
       "      <th>алгоритм</th>\n",
       "      <td>0.522618</td>\n",
       "    </tr>\n",
       "    <tr>\n",
       "      <th>программа</th>\n",
       "      <td>0.491287</td>\n",
       "    </tr>\n",
       "    <tr>\n",
       "      <th>структура</th>\n",
       "      <td>0.465371</td>\n",
       "    </tr>\n",
       "    <tr>\n",
       "      <th>операционная система</th>\n",
       "      <td>0.464559</td>\n",
       "    </tr>\n",
       "    <tr>\n",
       "      <th>настройки</th>\n",
       "      <td>0.454179</td>\n",
       "    </tr>\n",
       "    <tr>\n",
       "      <th>компьютер</th>\n",
       "      <td>0.441942</td>\n",
       "    </tr>\n",
       "    <tr>\n",
       "      <th>программирование</th>\n",
       "      <td>0.435987</td>\n",
       "    </tr>\n",
       "    <tr>\n",
       "      <th>упорядоченность</th>\n",
       "      <td>0.429573</td>\n",
       "    </tr>\n",
       "    <tr>\n",
       "      <th>программы</th>\n",
       "      <td>0.417259</td>\n",
       "    </tr>\n",
       "    <tr>\n",
       "      <th>двоичный код</th>\n",
       "      <td>0.415700</td>\n",
       "    </tr>\n",
       "  </tbody>\n",
       "</table>\n",
       "</div>"
      ],
      "text/plain": [
       "                      similarity\n",
       "word                            \n",
       "алгоритм                0.522618\n",
       "программа               0.491287\n",
       "структура               0.465371\n",
       "операционная система    0.464559\n",
       "настройки               0.454179\n",
       "компьютер               0.441942\n",
       "программирование        0.435987\n",
       "упорядоченность         0.429573\n",
       "программы               0.417259\n",
       "двоичный код            0.415700"
      ]
     },
     "execution_count": 33,
     "metadata": {},
     "output_type": "execute_result"
    }
   ],
   "source": [
    "get_similar('система')"
   ]
  },
  {
   "cell_type": "code",
   "execution_count": 34,
   "metadata": {},
   "outputs": [
    {
     "data": {
      "text/html": [
       "<div>\n",
       "<style scoped>\n",
       "    .dataframe tbody tr th:only-of-type {\n",
       "        vertical-align: middle;\n",
       "    }\n",
       "\n",
       "    .dataframe tbody tr th {\n",
       "        vertical-align: top;\n",
       "    }\n",
       "\n",
       "    .dataframe thead th {\n",
       "        text-align: right;\n",
       "    }\n",
       "</style>\n",
       "<table border=\"1\" class=\"dataframe\">\n",
       "  <thead>\n",
       "    <tr style=\"text-align: right;\">\n",
       "      <th></th>\n",
       "      <th>similarity</th>\n",
       "    </tr>\n",
       "    <tr>\n",
       "      <th>word</th>\n",
       "      <th></th>\n",
       "    </tr>\n",
       "  </thead>\n",
       "  <tbody>\n",
       "    <tr>\n",
       "      <th>гопник</th>\n",
       "      <td>0.629871</td>\n",
       "    </tr>\n",
       "    <tr>\n",
       "      <th>гопники</th>\n",
       "      <td>0.579116</td>\n",
       "    </tr>\n",
       "    <tr>\n",
       "      <th>гопота</th>\n",
       "      <td>0.568035</td>\n",
       "    </tr>\n",
       "  </tbody>\n",
       "</table>\n",
       "</div>"
      ],
      "text/plain": [
       "         similarity\n",
       "word               \n",
       "гопник     0.629871\n",
       "гопники    0.579116\n",
       "гопота     0.568035"
      ]
     },
     "execution_count": 34,
     "metadata": {},
     "output_type": "execute_result"
    }
   ],
   "source": [
    "get_similar('ватник,быдло', count=3)"
   ]
  },
  {
   "cell_type": "code",
   "execution_count": 35,
   "metadata": {},
   "outputs": [
    {
     "data": {
      "text/html": [
       "<div>\n",
       "<style scoped>\n",
       "    .dataframe tbody tr th:only-of-type {\n",
       "        vertical-align: middle;\n",
       "    }\n",
       "\n",
       "    .dataframe tbody tr th {\n",
       "        vertical-align: top;\n",
       "    }\n",
       "\n",
       "    .dataframe thead th {\n",
       "        text-align: right;\n",
       "    }\n",
       "</style>\n",
       "<table border=\"1\" class=\"dataframe\">\n",
       "  <thead>\n",
       "    <tr style=\"text-align: right;\">\n",
       "      <th></th>\n",
       "      <th>similarity</th>\n",
       "    </tr>\n",
       "    <tr>\n",
       "      <th>word</th>\n",
       "      <th></th>\n",
       "    </tr>\n",
       "  </thead>\n",
       "  <tbody>\n",
       "    <tr>\n",
       "      <th>телогрейка</th>\n",
       "      <td>0.427465</td>\n",
       "    </tr>\n",
       "    <tr>\n",
       "      <th>пуховик</th>\n",
       "      <td>0.368377</td>\n",
       "    </tr>\n",
       "    <tr>\n",
       "      <th>анорак</th>\n",
       "      <td>0.362613</td>\n",
       "    </tr>\n",
       "  </tbody>\n",
       "</table>\n",
       "</div>"
      ],
      "text/plain": [
       "            similarity\n",
       "word                  \n",
       "телогрейка    0.427465\n",
       "пуховик       0.368377\n",
       "анорак        0.362613"
      ]
     },
     "execution_count": 35,
     "metadata": {},
     "output_type": "execute_result"
    }
   ],
   "source": [
    "get_similar('ватник,-быдло', count=3)"
   ]
  },
  {
   "cell_type": "code",
   "execution_count": 36,
   "metadata": {},
   "outputs": [
    {
     "data": {
      "text/html": [
       "<div>\n",
       "<style scoped>\n",
       "    .dataframe tbody tr th:only-of-type {\n",
       "        vertical-align: middle;\n",
       "    }\n",
       "\n",
       "    .dataframe tbody tr th {\n",
       "        vertical-align: top;\n",
       "    }\n",
       "\n",
       "    .dataframe thead th {\n",
       "        text-align: right;\n",
       "    }\n",
       "</style>\n",
       "<table border=\"1\" class=\"dataframe\">\n",
       "  <thead>\n",
       "    <tr style=\"text-align: right;\">\n",
       "      <th></th>\n",
       "      <th>similarity</th>\n",
       "    </tr>\n",
       "    <tr>\n",
       "      <th>word</th>\n",
       "      <th></th>\n",
       "    </tr>\n",
       "  </thead>\n",
       "  <tbody>\n",
       "    <tr>\n",
       "      <th>вселенная</th>\n",
       "      <td>0.681268</td>\n",
       "    </tr>\n",
       "    <tr>\n",
       "      <th>безграничность</th>\n",
       "      <td>0.655359</td>\n",
       "    </tr>\n",
       "    <tr>\n",
       "      <th>вечность</th>\n",
       "      <td>0.650114</td>\n",
       "    </tr>\n",
       "    <tr>\n",
       "      <th>континуум</th>\n",
       "      <td>0.632230</td>\n",
       "    </tr>\n",
       "    <tr>\n",
       "      <th>петля мебиуса</th>\n",
       "      <td>0.620649</td>\n",
       "    </tr>\n",
       "    <tr>\n",
       "      <th>пространство</th>\n",
       "      <td>0.567535</td>\n",
       "    </tr>\n",
       "    <tr>\n",
       "      <th>непостижимость</th>\n",
       "      <td>0.547699</td>\n",
       "    </tr>\n",
       "    <tr>\n",
       "      <th>промежуток</th>\n",
       "      <td>0.537255</td>\n",
       "    </tr>\n",
       "    <tr>\n",
       "      <th>универсум</th>\n",
       "      <td>0.530941</td>\n",
       "    </tr>\n",
       "    <tr>\n",
       "      <th>хокинг</th>\n",
       "      <td>0.528108</td>\n",
       "    </tr>\n",
       "  </tbody>\n",
       "</table>\n",
       "</div>"
      ],
      "text/plain": [
       "                similarity\n",
       "word                      \n",
       "вселенная         0.681268\n",
       "безграничность    0.655359\n",
       "вечность          0.650114\n",
       "континуум         0.632230\n",
       "петля мебиуса     0.620649\n",
       "пространство      0.567535\n",
       "непостижимость    0.547699\n",
       "промежуток        0.537255\n",
       "универсум         0.530941\n",
       "хокинг            0.528108"
      ]
     },
     "execution_count": 36,
     "metadata": {},
     "output_type": "execute_result"
    }
   ],
   "source": [
    "get_similar('бесконечность')"
   ]
  },
  {
   "cell_type": "code",
   "execution_count": 37,
   "metadata": {},
   "outputs": [
    {
     "data": {
      "text/html": [
       "<div>\n",
       "<style scoped>\n",
       "    .dataframe tbody tr th:only-of-type {\n",
       "        vertical-align: middle;\n",
       "    }\n",
       "\n",
       "    .dataframe tbody tr th {\n",
       "        vertical-align: top;\n",
       "    }\n",
       "\n",
       "    .dataframe thead th {\n",
       "        text-align: right;\n",
       "    }\n",
       "</style>\n",
       "<table border=\"1\" class=\"dataframe\">\n",
       "  <thead>\n",
       "    <tr style=\"text-align: right;\">\n",
       "      <th></th>\n",
       "      <th>similarity</th>\n",
       "    </tr>\n",
       "    <tr>\n",
       "      <th>word</th>\n",
       "      <th></th>\n",
       "    </tr>\n",
       "  </thead>\n",
       "  <tbody>\n",
       "    <tr>\n",
       "      <th>бесконечность</th>\n",
       "      <td>0.650114</td>\n",
       "    </tr>\n",
       "    <tr>\n",
       "      <th>время</th>\n",
       "      <td>0.585966</td>\n",
       "    </tr>\n",
       "    <tr>\n",
       "      <th>минута</th>\n",
       "      <td>0.547468</td>\n",
       "    </tr>\n",
       "    <tr>\n",
       "      <th>мгновение</th>\n",
       "      <td>0.530104</td>\n",
       "    </tr>\n",
       "    <tr>\n",
       "      <th>секунда</th>\n",
       "      <td>0.527109</td>\n",
       "    </tr>\n",
       "    <tr>\n",
       "      <th>промежуток</th>\n",
       "      <td>0.523073</td>\n",
       "    </tr>\n",
       "    <tr>\n",
       "      <th>длительность</th>\n",
       "      <td>0.521102</td>\n",
       "    </tr>\n",
       "    <tr>\n",
       "      <th>бытие</th>\n",
       "      <td>0.520548</td>\n",
       "    </tr>\n",
       "    <tr>\n",
       "      <th>континуум</th>\n",
       "      <td>0.493538</td>\n",
       "    </tr>\n",
       "    <tr>\n",
       "      <th>продолжительность</th>\n",
       "      <td>0.479641</td>\n",
       "    </tr>\n",
       "  </tbody>\n",
       "</table>\n",
       "</div>"
      ],
      "text/plain": [
       "                   similarity\n",
       "word                         \n",
       "бесконечность        0.650114\n",
       "время                0.585966\n",
       "минута               0.547468\n",
       "мгновение            0.530104\n",
       "секунда              0.527109\n",
       "промежуток           0.523073\n",
       "длительность         0.521102\n",
       "бытие                0.520548\n",
       "континуум            0.493538\n",
       "продолжительность    0.479641"
      ]
     },
     "execution_count": 37,
     "metadata": {},
     "output_type": "execute_result"
    }
   ],
   "source": [
    "get_similar('вечность', sociation2vec)"
   ]
  },
  {
   "cell_type": "code",
   "execution_count": 38,
   "metadata": {},
   "outputs": [
    {
     "data": {
      "text/html": [
       "<div>\n",
       "<style scoped>\n",
       "    .dataframe tbody tr th:only-of-type {\n",
       "        vertical-align: middle;\n",
       "    }\n",
       "\n",
       "    .dataframe tbody tr th {\n",
       "        vertical-align: top;\n",
       "    }\n",
       "\n",
       "    .dataframe thead th {\n",
       "        text-align: right;\n",
       "    }\n",
       "</style>\n",
       "<table border=\"1\" class=\"dataframe\">\n",
       "  <thead>\n",
       "    <tr style=\"text-align: right;\">\n",
       "      <th></th>\n",
       "      <th>similarity</th>\n",
       "    </tr>\n",
       "    <tr>\n",
       "      <th>word</th>\n",
       "      <th></th>\n",
       "    </tr>\n",
       "  </thead>\n",
       "  <tbody>\n",
       "    <tr>\n",
       "      <th>масса</th>\n",
       "      <td>0.516677</td>\n",
       "    </tr>\n",
       "  </tbody>\n",
       "</table>\n",
       "</div>"
      ],
      "text/plain": [
       "       similarity\n",
       "word             \n",
       "масса    0.516677"
      ]
     },
     "execution_count": 38,
     "metadata": {},
     "output_type": "execute_result"
    }
   ],
   "source": [
    "get_similar('плотность,объём', count=1)"
   ]
  },
  {
   "cell_type": "code",
   "execution_count": 39,
   "metadata": {},
   "outputs": [
    {
     "data": {
      "text/html": [
       "<div>\n",
       "<style scoped>\n",
       "    .dataframe tbody tr th:only-of-type {\n",
       "        vertical-align: middle;\n",
       "    }\n",
       "\n",
       "    .dataframe tbody tr th {\n",
       "        vertical-align: top;\n",
       "    }\n",
       "\n",
       "    .dataframe thead th {\n",
       "        text-align: right;\n",
       "    }\n",
       "</style>\n",
       "<table border=\"1\" class=\"dataframe\">\n",
       "  <thead>\n",
       "    <tr style=\"text-align: right;\">\n",
       "      <th></th>\n",
       "      <th>similarity</th>\n",
       "    </tr>\n",
       "    <tr>\n",
       "      <th>word</th>\n",
       "      <th></th>\n",
       "    </tr>\n",
       "  </thead>\n",
       "  <tbody>\n",
       "    <tr>\n",
       "      <th>экскурсовод</th>\n",
       "      <td>0.722172</td>\n",
       "    </tr>\n",
       "    <tr>\n",
       "      <th>экскурсия</th>\n",
       "      <td>0.709419</td>\n",
       "    </tr>\n",
       "    <tr>\n",
       "      <th>достопримечательность</th>\n",
       "      <td>0.537955</td>\n",
       "    </tr>\n",
       "    <tr>\n",
       "      <th>путеводитель</th>\n",
       "      <td>0.522491</td>\n",
       "    </tr>\n",
       "  </tbody>\n",
       "</table>\n",
       "</div>"
      ],
      "text/plain": [
       "                       similarity\n",
       "word                             \n",
       "экскурсовод              0.722172\n",
       "экскурсия                0.709419\n",
       "достопримечательность    0.537955\n",
       "путеводитель             0.522491"
      ]
     },
     "execution_count": 39,
     "metadata": {},
     "output_type": "execute_result"
    }
   ],
   "source": [
    "get_similar('гид', count=4)"
   ]
  },
  {
   "cell_type": "code",
   "execution_count": 89,
   "metadata": {},
   "outputs": [
    {
     "data": {
      "text/html": [
       "<div>\n",
       "<style scoped>\n",
       "    .dataframe tbody tr th:only-of-type {\n",
       "        vertical-align: middle;\n",
       "    }\n",
       "\n",
       "    .dataframe tbody tr th {\n",
       "        vertical-align: top;\n",
       "    }\n",
       "\n",
       "    .dataframe thead th {\n",
       "        text-align: right;\n",
       "    }\n",
       "</style>\n",
       "<table border=\"1\" class=\"dataframe\">\n",
       "  <thead>\n",
       "    <tr style=\"text-align: right;\">\n",
       "      <th></th>\n",
       "      <th>similarity</th>\n",
       "    </tr>\n",
       "    <tr>\n",
       "      <th>word</th>\n",
       "      <th></th>\n",
       "    </tr>\n",
       "  </thead>\n",
       "  <tbody>\n",
       "    <tr>\n",
       "      <th>кот</th>\n",
       "      <td>0.534667</td>\n",
       "    </tr>\n",
       "    <tr>\n",
       "      <th>котик</th>\n",
       "      <td>0.442449</td>\n",
       "    </tr>\n",
       "    <tr>\n",
       "      <th>усы</th>\n",
       "      <td>0.430905</td>\n",
       "    </tr>\n",
       "    <tr>\n",
       "      <th>котёнок</th>\n",
       "      <td>0.415737</td>\n",
       "    </tr>\n",
       "  </tbody>\n",
       "</table>\n",
       "</div>"
      ],
      "text/plain": [
       "         similarity\n",
       "word               \n",
       "кот        0.534667\n",
       "котик      0.442449\n",
       "усы        0.430905\n",
       "котёнок    0.415737"
      ]
     },
     "execution_count": 89,
     "metadata": {},
     "output_type": "execute_result"
    }
   ],
   "source": [
    "get_similar('кошка,-женщина,мужчина', count=4)"
   ]
  },
  {
   "cell_type": "code",
   "execution_count": 41,
   "metadata": {},
   "outputs": [
    {
     "data": {
      "text/html": [
       "<div>\n",
       "<style scoped>\n",
       "    .dataframe tbody tr th:only-of-type {\n",
       "        vertical-align: middle;\n",
       "    }\n",
       "\n",
       "    .dataframe tbody tr th {\n",
       "        vertical-align: top;\n",
       "    }\n",
       "\n",
       "    .dataframe thead th {\n",
       "        text-align: right;\n",
       "    }\n",
       "</style>\n",
       "<table border=\"1\" class=\"dataframe\">\n",
       "  <thead>\n",
       "    <tr style=\"text-align: right;\">\n",
       "      <th></th>\n",
       "      <th>similarity</th>\n",
       "    </tr>\n",
       "    <tr>\n",
       "      <th>word</th>\n",
       "      <th></th>\n",
       "    </tr>\n",
       "  </thead>\n",
       "  <tbody>\n",
       "    <tr>\n",
       "      <th>папа</th>\n",
       "      <td>0.566477</td>\n",
       "    </tr>\n",
       "    <tr>\n",
       "      <th>отец</th>\n",
       "      <td>0.555301</td>\n",
       "    </tr>\n",
       "  </tbody>\n",
       "</table>\n",
       "</div>"
      ],
      "text/plain": [
       "      similarity\n",
       "word            \n",
       "папа    0.566477\n",
       "отец    0.555301"
      ]
     },
     "execution_count": 41,
     "metadata": {},
     "output_type": "execute_result"
    }
   ],
   "source": [
    "get_similar('мама,-женщина,мужчина', count=2)"
   ]
  },
  {
   "cell_type": "code",
   "execution_count": 42,
   "metadata": {},
   "outputs": [
    {
     "data": {
      "text/html": [
       "<div>\n",
       "<style scoped>\n",
       "    .dataframe tbody tr th:only-of-type {\n",
       "        vertical-align: middle;\n",
       "    }\n",
       "\n",
       "    .dataframe tbody tr th {\n",
       "        vertical-align: top;\n",
       "    }\n",
       "\n",
       "    .dataframe thead th {\n",
       "        text-align: right;\n",
       "    }\n",
       "</style>\n",
       "<table border=\"1\" class=\"dataframe\">\n",
       "  <thead>\n",
       "    <tr style=\"text-align: right;\">\n",
       "      <th></th>\n",
       "      <th>similarity</th>\n",
       "    </tr>\n",
       "    <tr>\n",
       "      <th>word</th>\n",
       "      <th></th>\n",
       "    </tr>\n",
       "  </thead>\n",
       "  <tbody>\n",
       "    <tr>\n",
       "      <th>мама</th>\n",
       "      <td>0.596825</td>\n",
       "    </tr>\n",
       "    <tr>\n",
       "      <th>мать</th>\n",
       "      <td>0.590816</td>\n",
       "    </tr>\n",
       "  </tbody>\n",
       "</table>\n",
       "</div>"
      ],
      "text/plain": [
       "      similarity\n",
       "word            \n",
       "мама    0.596825\n",
       "мать    0.590816"
      ]
     },
     "execution_count": 42,
     "metadata": {},
     "output_type": "execute_result"
    }
   ],
   "source": [
    "get_similar('папа,-мужчина,женщина', count=2)"
   ]
  },
  {
   "cell_type": "code",
   "execution_count": 280,
   "metadata": {},
   "outputs": [
    {
     "data": {
      "text/html": [
       "<div>\n",
       "<style scoped>\n",
       "    .dataframe tbody tr th:only-of-type {\n",
       "        vertical-align: middle;\n",
       "    }\n",
       "\n",
       "    .dataframe tbody tr th {\n",
       "        vertical-align: top;\n",
       "    }\n",
       "\n",
       "    .dataframe thead th {\n",
       "        text-align: right;\n",
       "    }\n",
       "</style>\n",
       "<table border=\"1\" class=\"dataframe\">\n",
       "  <thead>\n",
       "    <tr style=\"text-align: right;\">\n",
       "      <th></th>\n",
       "      <th>similarity</th>\n",
       "    </tr>\n",
       "    <tr>\n",
       "      <th>word</th>\n",
       "      <th></th>\n",
       "    </tr>\n",
       "  </thead>\n",
       "  <tbody>\n",
       "    <tr>\n",
       "      <th>мать</th>\n",
       "      <td>0.611202</td>\n",
       "    </tr>\n",
       "    <tr>\n",
       "      <th>дочь</th>\n",
       "      <td>0.606259</td>\n",
       "    </tr>\n",
       "  </tbody>\n",
       "</table>\n",
       "</div>"
      ],
      "text/plain": [
       "      similarity\n",
       "word            \n",
       "мать    0.611202\n",
       "дочь    0.606259"
      ]
     },
     "execution_count": 280,
     "metadata": {},
     "output_type": "execute_result"
    }
   ],
   "source": [
    "get_similar('сын,-мужчина,женщина', count=2)"
   ]
  },
  {
   "cell_type": "code",
   "execution_count": 44,
   "metadata": {},
   "outputs": [
    {
     "data": {
      "text/html": [
       "<div>\n",
       "<style scoped>\n",
       "    .dataframe tbody tr th:only-of-type {\n",
       "        vertical-align: middle;\n",
       "    }\n",
       "\n",
       "    .dataframe tbody tr th {\n",
       "        vertical-align: top;\n",
       "    }\n",
       "\n",
       "    .dataframe thead th {\n",
       "        text-align: right;\n",
       "    }\n",
       "</style>\n",
       "<table border=\"1\" class=\"dataframe\">\n",
       "  <thead>\n",
       "    <tr style=\"text-align: right;\">\n",
       "      <th></th>\n",
       "      <th>similarity</th>\n",
       "    </tr>\n",
       "    <tr>\n",
       "      <th>word</th>\n",
       "      <th></th>\n",
       "    </tr>\n",
       "  </thead>\n",
       "  <tbody>\n",
       "    <tr>\n",
       "      <th>сын</th>\n",
       "      <td>0.555355</td>\n",
       "    </tr>\n",
       "    <tr>\n",
       "      <th>отец</th>\n",
       "      <td>0.530861</td>\n",
       "    </tr>\n",
       "  </tbody>\n",
       "</table>\n",
       "</div>"
      ],
      "text/plain": [
       "      similarity\n",
       "word            \n",
       "сын     0.555355\n",
       "отец    0.530861"
      ]
     },
     "execution_count": 44,
     "metadata": {},
     "output_type": "execute_result"
    }
   ],
   "source": [
    "get_similar('дочь,-женщина,мужчина', count=2)"
   ]
  },
  {
   "cell_type": "code",
   "execution_count": 45,
   "metadata": {},
   "outputs": [
    {
     "data": {
      "text/html": [
       "<div>\n",
       "<style scoped>\n",
       "    .dataframe tbody tr th:only-of-type {\n",
       "        vertical-align: middle;\n",
       "    }\n",
       "\n",
       "    .dataframe tbody tr th {\n",
       "        vertical-align: top;\n",
       "    }\n",
       "\n",
       "    .dataframe thead th {\n",
       "        text-align: right;\n",
       "    }\n",
       "</style>\n",
       "<table border=\"1\" class=\"dataframe\">\n",
       "  <thead>\n",
       "    <tr style=\"text-align: right;\">\n",
       "      <th></th>\n",
       "      <th>similarity</th>\n",
       "    </tr>\n",
       "    <tr>\n",
       "      <th>word</th>\n",
       "      <th></th>\n",
       "    </tr>\n",
       "  </thead>\n",
       "  <tbody>\n",
       "    <tr>\n",
       "      <th>сестра</th>\n",
       "      <td>0.607106</td>\n",
       "    </tr>\n",
       "  </tbody>\n",
       "</table>\n",
       "</div>"
      ],
      "text/plain": [
       "        similarity\n",
       "word              \n",
       "сестра    0.607106"
      ]
     },
     "execution_count": 45,
     "metadata": {},
     "output_type": "execute_result"
    }
   ],
   "source": [
    "get_similar('брат,-мальчик,девочка', count=1)"
   ]
  },
  {
   "cell_type": "code",
   "execution_count": 46,
   "metadata": {},
   "outputs": [
    {
     "data": {
      "text/html": [
       "<div>\n",
       "<style scoped>\n",
       "    .dataframe tbody tr th:only-of-type {\n",
       "        vertical-align: middle;\n",
       "    }\n",
       "\n",
       "    .dataframe tbody tr th {\n",
       "        vertical-align: top;\n",
       "    }\n",
       "\n",
       "    .dataframe thead th {\n",
       "        text-align: right;\n",
       "    }\n",
       "</style>\n",
       "<table border=\"1\" class=\"dataframe\">\n",
       "  <thead>\n",
       "    <tr style=\"text-align: right;\">\n",
       "      <th></th>\n",
       "      <th>similarity</th>\n",
       "    </tr>\n",
       "    <tr>\n",
       "      <th>word</th>\n",
       "      <th></th>\n",
       "    </tr>\n",
       "  </thead>\n",
       "  <tbody>\n",
       "    <tr>\n",
       "      <th>принцесса</th>\n",
       "      <td>0.570067</td>\n",
       "    </tr>\n",
       "  </tbody>\n",
       "</table>\n",
       "</div>"
      ],
      "text/plain": [
       "           similarity\n",
       "word                 \n",
       "принцесса    0.570067"
      ]
     },
     "execution_count": 46,
     "metadata": {},
     "output_type": "execute_result"
    }
   ],
   "source": [
    "get_similar('принц,-мальчик,девочка', count=1)"
   ]
  },
  {
   "cell_type": "code",
   "execution_count": 47,
   "metadata": {},
   "outputs": [
    {
     "data": {
      "text/html": [
       "<div>\n",
       "<style scoped>\n",
       "    .dataframe tbody tr th:only-of-type {\n",
       "        vertical-align: middle;\n",
       "    }\n",
       "\n",
       "    .dataframe tbody tr th {\n",
       "        vertical-align: top;\n",
       "    }\n",
       "\n",
       "    .dataframe thead th {\n",
       "        text-align: right;\n",
       "    }\n",
       "</style>\n",
       "<table border=\"1\" class=\"dataframe\">\n",
       "  <thead>\n",
       "    <tr style=\"text-align: right;\">\n",
       "      <th></th>\n",
       "      <th>similarity</th>\n",
       "    </tr>\n",
       "    <tr>\n",
       "      <th>word</th>\n",
       "      <th></th>\n",
       "    </tr>\n",
       "  </thead>\n",
       "  <tbody>\n",
       "    <tr>\n",
       "      <th>муж</th>\n",
       "      <td>0.594385</td>\n",
       "    </tr>\n",
       "    <tr>\n",
       "      <th>супруг</th>\n",
       "      <td>0.505211</td>\n",
       "    </tr>\n",
       "  </tbody>\n",
       "</table>\n",
       "</div>"
      ],
      "text/plain": [
       "        similarity\n",
       "word              \n",
       "муж       0.594385\n",
       "супруг    0.505211"
      ]
     },
     "execution_count": 47,
     "metadata": {},
     "output_type": "execute_result"
    }
   ],
   "source": [
    "get_similar('жена,-девочка,мальчик', count=2)"
   ]
  },
  {
   "cell_type": "code",
   "execution_count": 48,
   "metadata": {},
   "outputs": [
    {
     "data": {
      "text/html": [
       "<div>\n",
       "<style scoped>\n",
       "    .dataframe tbody tr th:only-of-type {\n",
       "        vertical-align: middle;\n",
       "    }\n",
       "\n",
       "    .dataframe tbody tr th {\n",
       "        vertical-align: top;\n",
       "    }\n",
       "\n",
       "    .dataframe thead th {\n",
       "        text-align: right;\n",
       "    }\n",
       "</style>\n",
       "<table border=\"1\" class=\"dataframe\">\n",
       "  <thead>\n",
       "    <tr style=\"text-align: right;\">\n",
       "      <th></th>\n",
       "      <th>similarity</th>\n",
       "    </tr>\n",
       "    <tr>\n",
       "      <th>word</th>\n",
       "      <th></th>\n",
       "    </tr>\n",
       "  </thead>\n",
       "  <tbody>\n",
       "    <tr>\n",
       "      <th>ворона</th>\n",
       "      <td>0.396677</td>\n",
       "    </tr>\n",
       "  </tbody>\n",
       "</table>\n",
       "</div>"
      ],
      "text/plain": [
       "        similarity\n",
       "word              \n",
       "ворона    0.396677"
      ]
     },
     "execution_count": 48,
     "metadata": {},
     "output_type": "execute_result"
    }
   ],
   "source": [
    "get_similar('ворон,-мужчина,женщина', count=1)"
   ]
  },
  {
   "cell_type": "code",
   "execution_count": 49,
   "metadata": {},
   "outputs": [
    {
     "data": {
      "text/html": [
       "<div>\n",
       "<style scoped>\n",
       "    .dataframe tbody tr th:only-of-type {\n",
       "        vertical-align: middle;\n",
       "    }\n",
       "\n",
       "    .dataframe tbody tr th {\n",
       "        vertical-align: top;\n",
       "    }\n",
       "\n",
       "    .dataframe thead th {\n",
       "        text-align: right;\n",
       "    }\n",
       "</style>\n",
       "<table border=\"1\" class=\"dataframe\">\n",
       "  <thead>\n",
       "    <tr style=\"text-align: right;\">\n",
       "      <th></th>\n",
       "      <th>similarity</th>\n",
       "    </tr>\n",
       "    <tr>\n",
       "      <th>word</th>\n",
       "      <th></th>\n",
       "    </tr>\n",
       "  </thead>\n",
       "  <tbody>\n",
       "    <tr>\n",
       "      <th>волчица</th>\n",
       "      <td>0.43839</td>\n",
       "    </tr>\n",
       "  </tbody>\n",
       "</table>\n",
       "</div>"
      ],
      "text/plain": [
       "         similarity\n",
       "word               \n",
       "волчица     0.43839"
      ]
     },
     "execution_count": 49,
     "metadata": {},
     "output_type": "execute_result"
    }
   ],
   "source": [
    "get_similar('волк,-мужчина,женщина', count=1)"
   ]
  },
  {
   "cell_type": "code",
   "execution_count": 50,
   "metadata": {},
   "outputs": [
    {
     "data": {
      "text/html": [
       "<div>\n",
       "<style scoped>\n",
       "    .dataframe tbody tr th:only-of-type {\n",
       "        vertical-align: middle;\n",
       "    }\n",
       "\n",
       "    .dataframe tbody tr th {\n",
       "        vertical-align: top;\n",
       "    }\n",
       "\n",
       "    .dataframe thead th {\n",
       "        text-align: right;\n",
       "    }\n",
       "</style>\n",
       "<table border=\"1\" class=\"dataframe\">\n",
       "  <thead>\n",
       "    <tr style=\"text-align: right;\">\n",
       "      <th></th>\n",
       "      <th>similarity</th>\n",
       "    </tr>\n",
       "    <tr>\n",
       "      <th>word</th>\n",
       "      <th></th>\n",
       "    </tr>\n",
       "  </thead>\n",
       "  <tbody>\n",
       "    <tr>\n",
       "      <th>пёс</th>\n",
       "      <td>0.603662</td>\n",
       "    </tr>\n",
       "  </tbody>\n",
       "</table>\n",
       "</div>"
      ],
      "text/plain": [
       "      similarity\n",
       "word            \n",
       "пёс     0.603662"
      ]
     },
     "execution_count": 50,
     "metadata": {},
     "output_type": "execute_result"
    }
   ],
   "source": [
    "get_similar('собака,-женщина,мужчина', count=1)"
   ]
  },
  {
   "cell_type": "code",
   "execution_count": 51,
   "metadata": {},
   "outputs": [
    {
     "data": {
      "text/html": [
       "<div>\n",
       "<style scoped>\n",
       "    .dataframe tbody tr th:only-of-type {\n",
       "        vertical-align: middle;\n",
       "    }\n",
       "\n",
       "    .dataframe tbody tr th {\n",
       "        vertical-align: top;\n",
       "    }\n",
       "\n",
       "    .dataframe thead th {\n",
       "        text-align: right;\n",
       "    }\n",
       "</style>\n",
       "<table border=\"1\" class=\"dataframe\">\n",
       "  <thead>\n",
       "    <tr style=\"text-align: right;\">\n",
       "      <th></th>\n",
       "      <th>similarity</th>\n",
       "    </tr>\n",
       "    <tr>\n",
       "      <th>word</th>\n",
       "      <th></th>\n",
       "    </tr>\n",
       "  </thead>\n",
       "  <tbody>\n",
       "    <tr>\n",
       "      <th>шива</th>\n",
       "      <td>0.681705</td>\n",
       "    </tr>\n",
       "    <tr>\n",
       "      <th>брахма</th>\n",
       "      <td>0.675043</td>\n",
       "    </tr>\n",
       "    <tr>\n",
       "      <th>кришна</th>\n",
       "      <td>0.626828</td>\n",
       "    </tr>\n",
       "  </tbody>\n",
       "</table>\n",
       "</div>"
      ],
      "text/plain": [
       "        similarity\n",
       "word              \n",
       "шива      0.681705\n",
       "брахма    0.675043\n",
       "кришна    0.626828"
      ]
     },
     "execution_count": 51,
     "metadata": {},
     "output_type": "execute_result"
    }
   ],
   "source": [
    "get_similar('бог,-христианство,индуизм', count=3)"
   ]
  },
  {
   "cell_type": "code",
   "execution_count": 52,
   "metadata": {},
   "outputs": [
    {
     "data": {
      "text/html": [
       "<div>\n",
       "<style scoped>\n",
       "    .dataframe tbody tr th:only-of-type {\n",
       "        vertical-align: middle;\n",
       "    }\n",
       "\n",
       "    .dataframe tbody tr th {\n",
       "        vertical-align: top;\n",
       "    }\n",
       "\n",
       "    .dataframe thead th {\n",
       "        text-align: right;\n",
       "    }\n",
       "</style>\n",
       "<table border=\"1\" class=\"dataframe\">\n",
       "  <thead>\n",
       "    <tr style=\"text-align: right;\">\n",
       "      <th></th>\n",
       "      <th>similarity</th>\n",
       "    </tr>\n",
       "    <tr>\n",
       "      <th>word</th>\n",
       "      <th></th>\n",
       "    </tr>\n",
       "  </thead>\n",
       "  <tbody>\n",
       "    <tr>\n",
       "      <th>дарвин</th>\n",
       "      <td>0.331385</td>\n",
       "    </tr>\n",
       "    <tr>\n",
       "      <th>горилла</th>\n",
       "      <td>0.323233</td>\n",
       "    </tr>\n",
       "    <tr>\n",
       "      <th>обезьяна</th>\n",
       "      <td>0.301998</td>\n",
       "    </tr>\n",
       "    <tr>\n",
       "      <th>естественный отбор</th>\n",
       "      <td>0.296974</td>\n",
       "    </tr>\n",
       "    <tr>\n",
       "      <th>бабуин</th>\n",
       "      <td>0.286413</td>\n",
       "    </tr>\n",
       "    <tr>\n",
       "      <th>макака</th>\n",
       "      <td>0.275529</td>\n",
       "    </tr>\n",
       "    <tr>\n",
       "      <th>существо</th>\n",
       "      <td>0.270807</td>\n",
       "    </tr>\n",
       "    <tr>\n",
       "      <th>особь</th>\n",
       "      <td>0.269833</td>\n",
       "    </tr>\n",
       "    <tr>\n",
       "      <th>примат</th>\n",
       "      <td>0.267564</td>\n",
       "    </tr>\n",
       "    <tr>\n",
       "      <th>животное</th>\n",
       "      <td>0.263357</td>\n",
       "    </tr>\n",
       "  </tbody>\n",
       "</table>\n",
       "</div>"
      ],
      "text/plain": [
       "                    similarity\n",
       "word                          \n",
       "дарвин                0.331385\n",
       "горилла               0.323233\n",
       "обезьяна              0.301998\n",
       "естественный отбор    0.296974\n",
       "бабуин                0.286413\n",
       "макака                0.275529\n",
       "существо              0.270807\n",
       "особь                 0.269833\n",
       "примат                0.267564\n",
       "животное              0.263357"
      ]
     },
     "execution_count": 52,
     "metadata": {},
     "output_type": "execute_result"
    }
   ],
   "source": [
    "get_similar('человек,-человечность')"
   ]
  },
  {
   "cell_type": "code",
   "execution_count": 53,
   "metadata": {},
   "outputs": [
    {
     "data": {
      "text/html": [
       "<div>\n",
       "<style scoped>\n",
       "    .dataframe tbody tr th:only-of-type {\n",
       "        vertical-align: middle;\n",
       "    }\n",
       "\n",
       "    .dataframe tbody tr th {\n",
       "        vertical-align: top;\n",
       "    }\n",
       "\n",
       "    .dataframe thead th {\n",
       "        text-align: right;\n",
       "    }\n",
       "</style>\n",
       "<table border=\"1\" class=\"dataframe\">\n",
       "  <thead>\n",
       "    <tr style=\"text-align: right;\">\n",
       "      <th></th>\n",
       "      <th>similarity</th>\n",
       "    </tr>\n",
       "    <tr>\n",
       "      <th>word</th>\n",
       "      <th></th>\n",
       "    </tr>\n",
       "  </thead>\n",
       "  <tbody>\n",
       "    <tr>\n",
       "      <th>гуманность</th>\n",
       "      <td>0.583465</td>\n",
       "    </tr>\n",
       "    <tr>\n",
       "      <th>разум</th>\n",
       "      <td>0.526734</td>\n",
       "    </tr>\n",
       "    <tr>\n",
       "      <th>личность</th>\n",
       "      <td>0.523718</td>\n",
       "    </tr>\n",
       "    <tr>\n",
       "      <th>гуманизм</th>\n",
       "      <td>0.520462</td>\n",
       "    </tr>\n",
       "    <tr>\n",
       "      <th>индивид</th>\n",
       "      <td>0.513282</td>\n",
       "    </tr>\n",
       "    <tr>\n",
       "      <th>сущность</th>\n",
       "      <td>0.490149</td>\n",
       "    </tr>\n",
       "    <tr>\n",
       "      <th>человеколюбие</th>\n",
       "      <td>0.486066</td>\n",
       "    </tr>\n",
       "    <tr>\n",
       "      <th>душа</th>\n",
       "      <td>0.479412</td>\n",
       "    </tr>\n",
       "    <tr>\n",
       "      <th>доброта</th>\n",
       "      <td>0.472022</td>\n",
       "    </tr>\n",
       "    <tr>\n",
       "      <th>благодетель</th>\n",
       "      <td>0.457085</td>\n",
       "    </tr>\n",
       "  </tbody>\n",
       "</table>\n",
       "</div>"
      ],
      "text/plain": [
       "               similarity\n",
       "word                     \n",
       "гуманность       0.583465\n",
       "разум            0.526734\n",
       "личность         0.523718\n",
       "гуманизм         0.520462\n",
       "индивид          0.513282\n",
       "сущность         0.490149\n",
       "человеколюбие    0.486066\n",
       "душа             0.479412\n",
       "доброта          0.472022\n",
       "благодетель      0.457085"
      ]
     },
     "execution_count": 53,
     "metadata": {},
     "output_type": "execute_result"
    }
   ],
   "source": [
    "get_similar('человек,человечность')"
   ]
  },
  {
   "cell_type": "code",
   "execution_count": 54,
   "metadata": {},
   "outputs": [
    {
     "data": {
      "text/html": [
       "<div>\n",
       "<style scoped>\n",
       "    .dataframe tbody tr th:only-of-type {\n",
       "        vertical-align: middle;\n",
       "    }\n",
       "\n",
       "    .dataframe tbody tr th {\n",
       "        vertical-align: top;\n",
       "    }\n",
       "\n",
       "    .dataframe thead th {\n",
       "        text-align: right;\n",
       "    }\n",
       "</style>\n",
       "<table border=\"1\" class=\"dataframe\">\n",
       "  <thead>\n",
       "    <tr style=\"text-align: right;\">\n",
       "      <th></th>\n",
       "      <th>similarity</th>\n",
       "    </tr>\n",
       "    <tr>\n",
       "      <th>word</th>\n",
       "      <th></th>\n",
       "    </tr>\n",
       "  </thead>\n",
       "  <tbody>\n",
       "    <tr>\n",
       "      <th>огурец</th>\n",
       "      <td>0.586347</td>\n",
       "    </tr>\n",
       "    <tr>\n",
       "      <th>зелень</th>\n",
       "      <td>0.575023</td>\n",
       "    </tr>\n",
       "  </tbody>\n",
       "</table>\n",
       "</div>"
      ],
      "text/plain": [
       "        similarity\n",
       "word              \n",
       "огурец    0.586347\n",
       "зелень    0.575023"
      ]
     },
     "execution_count": 54,
     "metadata": {},
     "output_type": "execute_result"
    }
   ],
   "source": [
    "get_similar('помидоры,-красный цвет,зелёный цвет', count=2)"
   ]
  },
  {
   "cell_type": "code",
   "execution_count": 55,
   "metadata": {},
   "outputs": [
    {
     "data": {
      "text/html": [
       "<div>\n",
       "<style scoped>\n",
       "    .dataframe tbody tr th:only-of-type {\n",
       "        vertical-align: middle;\n",
       "    }\n",
       "\n",
       "    .dataframe tbody tr th {\n",
       "        vertical-align: top;\n",
       "    }\n",
       "\n",
       "    .dataframe thead th {\n",
       "        text-align: right;\n",
       "    }\n",
       "</style>\n",
       "<table border=\"1\" class=\"dataframe\">\n",
       "  <thead>\n",
       "    <tr style=\"text-align: right;\">\n",
       "      <th></th>\n",
       "      <th>similarity</th>\n",
       "    </tr>\n",
       "    <tr>\n",
       "      <th>word</th>\n",
       "      <th></th>\n",
       "    </tr>\n",
       "  </thead>\n",
       "  <tbody>\n",
       "    <tr>\n",
       "      <th>помидоры</th>\n",
       "      <td>0.512640</td>\n",
       "    </tr>\n",
       "    <tr>\n",
       "      <th>помидор</th>\n",
       "      <td>0.500788</td>\n",
       "    </tr>\n",
       "  </tbody>\n",
       "</table>\n",
       "</div>"
      ],
      "text/plain": [
       "          similarity\n",
       "word                \n",
       "помидоры    0.512640\n",
       "помидор     0.500788"
      ]
     },
     "execution_count": 55,
     "metadata": {},
     "output_type": "execute_result"
    }
   ],
   "source": [
    "get_similar('огурцы,-зелёный цвет,красный цвет', count=2)"
   ]
  },
  {
   "cell_type": "code",
   "execution_count": 56,
   "metadata": {},
   "outputs": [
    {
     "data": {
      "text/html": [
       "<div>\n",
       "<style scoped>\n",
       "    .dataframe tbody tr th:only-of-type {\n",
       "        vertical-align: middle;\n",
       "    }\n",
       "\n",
       "    .dataframe tbody tr th {\n",
       "        vertical-align: top;\n",
       "    }\n",
       "\n",
       "    .dataframe thead th {\n",
       "        text-align: right;\n",
       "    }\n",
       "</style>\n",
       "<table border=\"1\" class=\"dataframe\">\n",
       "  <thead>\n",
       "    <tr style=\"text-align: right;\">\n",
       "      <th></th>\n",
       "      <th>similarity</th>\n",
       "    </tr>\n",
       "    <tr>\n",
       "      <th>word</th>\n",
       "      <th></th>\n",
       "    </tr>\n",
       "  </thead>\n",
       "  <tbody>\n",
       "    <tr>\n",
       "      <th>рассвет</th>\n",
       "      <td>0.691819</td>\n",
       "    </tr>\n",
       "    <tr>\n",
       "      <th>восход</th>\n",
       "      <td>0.655696</td>\n",
       "    </tr>\n",
       "    <tr>\n",
       "      <th>заря</th>\n",
       "      <td>0.633641</td>\n",
       "    </tr>\n",
       "  </tbody>\n",
       "</table>\n",
       "</div>"
      ],
      "text/plain": [
       "         similarity\n",
       "word               \n",
       "рассвет    0.691819\n",
       "восход     0.655696\n",
       "заря       0.633641"
      ]
     },
     "execution_count": 56,
     "metadata": {},
     "output_type": "execute_result"
    }
   ],
   "source": [
    "get_similar('закат,-вечер,утро', count=3)"
   ]
  },
  {
   "cell_type": "code",
   "execution_count": 57,
   "metadata": {},
   "outputs": [
    {
     "data": {
      "text/html": [
       "<div>\n",
       "<style scoped>\n",
       "    .dataframe tbody tr th:only-of-type {\n",
       "        vertical-align: middle;\n",
       "    }\n",
       "\n",
       "    .dataframe tbody tr th {\n",
       "        vertical-align: top;\n",
       "    }\n",
       "\n",
       "    .dataframe thead th {\n",
       "        text-align: right;\n",
       "    }\n",
       "</style>\n",
       "<table border=\"1\" class=\"dataframe\">\n",
       "  <thead>\n",
       "    <tr style=\"text-align: right;\">\n",
       "      <th></th>\n",
       "      <th>similarity</th>\n",
       "    </tr>\n",
       "    <tr>\n",
       "      <th>word</th>\n",
       "      <th></th>\n",
       "    </tr>\n",
       "  </thead>\n",
       "  <tbody>\n",
       "    <tr>\n",
       "      <th>темнота</th>\n",
       "      <td>0.644368</td>\n",
       "    </tr>\n",
       "  </tbody>\n",
       "</table>\n",
       "</div>"
      ],
      "text/plain": [
       "         similarity\n",
       "word               \n",
       "темнота    0.644368"
      ]
     },
     "execution_count": 57,
     "metadata": {},
     "output_type": "execute_result"
    }
   ],
   "source": [
    "get_similar('свет,-день,ночь', count=1)"
   ]
  },
  {
   "cell_type": "code",
   "execution_count": 58,
   "metadata": {},
   "outputs": [
    {
     "data": {
      "text/html": [
       "<div>\n",
       "<style scoped>\n",
       "    .dataframe tbody tr th:only-of-type {\n",
       "        vertical-align: middle;\n",
       "    }\n",
       "\n",
       "    .dataframe tbody tr th {\n",
       "        vertical-align: top;\n",
       "    }\n",
       "\n",
       "    .dataframe thead th {\n",
       "        text-align: right;\n",
       "    }\n",
       "</style>\n",
       "<table border=\"1\" class=\"dataframe\">\n",
       "  <thead>\n",
       "    <tr style=\"text-align: right;\">\n",
       "      <th></th>\n",
       "      <th>similarity</th>\n",
       "    </tr>\n",
       "    <tr>\n",
       "      <th>word</th>\n",
       "      <th></th>\n",
       "    </tr>\n",
       "  </thead>\n",
       "  <tbody>\n",
       "    <tr>\n",
       "      <th>оттепель</th>\n",
       "      <td>0.700926</td>\n",
       "    </tr>\n",
       "  </tbody>\n",
       "</table>\n",
       "</div>"
      ],
      "text/plain": [
       "          similarity\n",
       "word                \n",
       "оттепель    0.700926"
      ]
     },
     "execution_count": 58,
     "metadata": {},
     "output_type": "execute_result"
    }
   ],
   "source": [
    "get_similar('похолодание,-осень,весна', count=1)"
   ]
  },
  {
   "cell_type": "code",
   "execution_count": 59,
   "metadata": {},
   "outputs": [
    {
     "data": {
      "text/html": [
       "<div>\n",
       "<style scoped>\n",
       "    .dataframe tbody tr th:only-of-type {\n",
       "        vertical-align: middle;\n",
       "    }\n",
       "\n",
       "    .dataframe tbody tr th {\n",
       "        vertical-align: top;\n",
       "    }\n",
       "\n",
       "    .dataframe thead th {\n",
       "        text-align: right;\n",
       "    }\n",
       "</style>\n",
       "<table border=\"1\" class=\"dataframe\">\n",
       "  <thead>\n",
       "    <tr style=\"text-align: right;\">\n",
       "      <th></th>\n",
       "      <th>similarity</th>\n",
       "    </tr>\n",
       "    <tr>\n",
       "      <th>word</th>\n",
       "      <th></th>\n",
       "    </tr>\n",
       "  </thead>\n",
       "  <tbody>\n",
       "    <tr>\n",
       "      <th>родник</th>\n",
       "      <td>0.592837</td>\n",
       "    </tr>\n",
       "  </tbody>\n",
       "</table>\n",
       "</div>"
      ],
      "text/plain": [
       "        similarity\n",
       "word              \n",
       "родник    0.592837"
      ]
     },
     "execution_count": 59,
     "metadata": {},
     "output_type": "execute_result"
    }
   ],
   "source": [
    "get_similar('ключ,вода', count=1)"
   ]
  },
  {
   "cell_type": "code",
   "execution_count": 60,
   "metadata": {},
   "outputs": [
    {
     "data": {
      "text/html": [
       "<div>\n",
       "<style scoped>\n",
       "    .dataframe tbody tr th:only-of-type {\n",
       "        vertical-align: middle;\n",
       "    }\n",
       "\n",
       "    .dataframe tbody tr th {\n",
       "        vertical-align: top;\n",
       "    }\n",
       "\n",
       "    .dataframe thead th {\n",
       "        text-align: right;\n",
       "    }\n",
       "</style>\n",
       "<table border=\"1\" class=\"dataframe\">\n",
       "  <thead>\n",
       "    <tr style=\"text-align: right;\">\n",
       "      <th></th>\n",
       "      <th>similarity</th>\n",
       "    </tr>\n",
       "    <tr>\n",
       "      <th>word</th>\n",
       "      <th></th>\n",
       "    </tr>\n",
       "  </thead>\n",
       "  <tbody>\n",
       "    <tr>\n",
       "      <th>гайка</th>\n",
       "      <td>0.798782</td>\n",
       "    </tr>\n",
       "  </tbody>\n",
       "</table>\n",
       "</div>"
      ],
      "text/plain": [
       "       similarity\n",
       "word             \n",
       "гайка    0.798782"
      ]
     },
     "execution_count": 60,
     "metadata": {},
     "output_type": "execute_result"
    }
   ],
   "source": [
    "get_similar('ключ,болт', count=1)"
   ]
  },
  {
   "cell_type": "code",
   "execution_count": 61,
   "metadata": {},
   "outputs": [
    {
     "data": {
      "text/html": [
       "<div>\n",
       "<style scoped>\n",
       "    .dataframe tbody tr th:only-of-type {\n",
       "        vertical-align: middle;\n",
       "    }\n",
       "\n",
       "    .dataframe tbody tr th {\n",
       "        vertical-align: top;\n",
       "    }\n",
       "\n",
       "    .dataframe thead th {\n",
       "        text-align: right;\n",
       "    }\n",
       "</style>\n",
       "<table border=\"1\" class=\"dataframe\">\n",
       "  <thead>\n",
       "    <tr style=\"text-align: right;\">\n",
       "      <th></th>\n",
       "      <th>similarity</th>\n",
       "    </tr>\n",
       "    <tr>\n",
       "      <th>word</th>\n",
       "      <th></th>\n",
       "    </tr>\n",
       "  </thead>\n",
       "  <tbody>\n",
       "    <tr>\n",
       "      <th>первичный ключ</th>\n",
       "      <td>0.716639</td>\n",
       "    </tr>\n",
       "    <tr>\n",
       "      <th>шифр</th>\n",
       "      <td>0.710854</td>\n",
       "    </tr>\n",
       "  </tbody>\n",
       "</table>\n",
       "</div>"
      ],
      "text/plain": [
       "                similarity\n",
       "word                      \n",
       "первичный ключ    0.716639\n",
       "шифр              0.710854"
      ]
     },
     "execution_count": 61,
     "metadata": {},
     "output_type": "execute_result"
    }
   ],
   "source": [
    "get_similar('ключ,криптография', count=2)"
   ]
  },
  {
   "cell_type": "code",
   "execution_count": 62,
   "metadata": {},
   "outputs": [
    {
     "data": {
      "text/html": [
       "<div>\n",
       "<style scoped>\n",
       "    .dataframe tbody tr th:only-of-type {\n",
       "        vertical-align: middle;\n",
       "    }\n",
       "\n",
       "    .dataframe tbody tr th {\n",
       "        vertical-align: top;\n",
       "    }\n",
       "\n",
       "    .dataframe thead th {\n",
       "        text-align: right;\n",
       "    }\n",
       "</style>\n",
       "<table border=\"1\" class=\"dataframe\">\n",
       "  <thead>\n",
       "    <tr style=\"text-align: right;\">\n",
       "      <th></th>\n",
       "      <th>similarity</th>\n",
       "    </tr>\n",
       "    <tr>\n",
       "      <th>word</th>\n",
       "      <th></th>\n",
       "    </tr>\n",
       "  </thead>\n",
       "  <tbody>\n",
       "    <tr>\n",
       "      <th>брелок</th>\n",
       "      <td>0.719851</td>\n",
       "    </tr>\n",
       "    <tr>\n",
       "      <th>отмычка</th>\n",
       "      <td>0.696581</td>\n",
       "    </tr>\n",
       "  </tbody>\n",
       "</table>\n",
       "</div>"
      ],
      "text/plain": [
       "         similarity\n",
       "word               \n",
       "брелок     0.719851\n",
       "отмычка    0.696581"
      ]
     },
     "execution_count": 62,
     "metadata": {},
     "output_type": "execute_result"
    }
   ],
   "source": [
    "get_similar('замок,ключ', count=2)"
   ]
  },
  {
   "cell_type": "code",
   "execution_count": 63,
   "metadata": {},
   "outputs": [
    {
     "data": {
      "text/html": [
       "<div>\n",
       "<style scoped>\n",
       "    .dataframe tbody tr th:only-of-type {\n",
       "        vertical-align: middle;\n",
       "    }\n",
       "\n",
       "    .dataframe tbody tr th {\n",
       "        vertical-align: top;\n",
       "    }\n",
       "\n",
       "    .dataframe thead th {\n",
       "        text-align: right;\n",
       "    }\n",
       "</style>\n",
       "<table border=\"1\" class=\"dataframe\">\n",
       "  <thead>\n",
       "    <tr style=\"text-align: right;\">\n",
       "      <th></th>\n",
       "      <th>similarity</th>\n",
       "    </tr>\n",
       "    <tr>\n",
       "      <th>word</th>\n",
       "      <th></th>\n",
       "    </tr>\n",
       "  </thead>\n",
       "  <tbody>\n",
       "    <tr>\n",
       "      <th>замки</th>\n",
       "      <td>0.663148</td>\n",
       "    </tr>\n",
       "    <tr>\n",
       "      <th>рыцари</th>\n",
       "      <td>0.629686</td>\n",
       "    </tr>\n",
       "  </tbody>\n",
       "</table>\n",
       "</div>"
      ],
      "text/plain": [
       "        similarity\n",
       "word              \n",
       "замки     0.663148\n",
       "рыцари    0.629686"
      ]
     },
     "execution_count": 63,
     "metadata": {},
     "output_type": "execute_result"
    }
   ],
   "source": [
    "get_similar('замок,средневековье', count=2)"
   ]
  },
  {
   "cell_type": "code",
   "execution_count": 64,
   "metadata": {},
   "outputs": [
    {
     "data": {
      "text/html": [
       "<div>\n",
       "<style scoped>\n",
       "    .dataframe tbody tr th:only-of-type {\n",
       "        vertical-align: middle;\n",
       "    }\n",
       "\n",
       "    .dataframe tbody tr th {\n",
       "        vertical-align: top;\n",
       "    }\n",
       "\n",
       "    .dataframe thead th {\n",
       "        text-align: right;\n",
       "    }\n",
       "</style>\n",
       "<table border=\"1\" class=\"dataframe\">\n",
       "  <thead>\n",
       "    <tr style=\"text-align: right;\">\n",
       "      <th></th>\n",
       "      <th>similarity</th>\n",
       "    </tr>\n",
       "    <tr>\n",
       "      <th>word</th>\n",
       "      <th></th>\n",
       "    </tr>\n",
       "  </thead>\n",
       "  <tbody>\n",
       "    <tr>\n",
       "      <th>отец</th>\n",
       "      <td>0.742033</td>\n",
       "    </tr>\n",
       "    <tr>\n",
       "      <th>мать</th>\n",
       "      <td>0.731331</td>\n",
       "    </tr>\n",
       "    <tr>\n",
       "      <th>родители</th>\n",
       "      <td>0.714131</td>\n",
       "    </tr>\n",
       "    <tr>\n",
       "      <th>родитель</th>\n",
       "      <td>0.689356</td>\n",
       "    </tr>\n",
       "  </tbody>\n",
       "</table>\n",
       "</div>"
      ],
      "text/plain": [
       "          similarity\n",
       "word                \n",
       "отец        0.742033\n",
       "мать        0.731331\n",
       "родители    0.714131\n",
       "родитель    0.689356"
      ]
     },
     "execution_count": 64,
     "metadata": {},
     "output_type": "execute_result"
    }
   ],
   "source": [
    "get_similar('папа,мама', count=4)"
   ]
  },
  {
   "cell_type": "code",
   "execution_count": 65,
   "metadata": {},
   "outputs": [
    {
     "data": {
      "text/html": [
       "<div>\n",
       "<style scoped>\n",
       "    .dataframe tbody tr th:only-of-type {\n",
       "        vertical-align: middle;\n",
       "    }\n",
       "\n",
       "    .dataframe tbody tr th {\n",
       "        vertical-align: top;\n",
       "    }\n",
       "\n",
       "    .dataframe thead th {\n",
       "        text-align: right;\n",
       "    }\n",
       "</style>\n",
       "<table border=\"1\" class=\"dataframe\">\n",
       "  <thead>\n",
       "    <tr style=\"text-align: right;\">\n",
       "      <th></th>\n",
       "      <th>similarity</th>\n",
       "    </tr>\n",
       "    <tr>\n",
       "      <th>word</th>\n",
       "      <th></th>\n",
       "    </tr>\n",
       "  </thead>\n",
       "  <tbody>\n",
       "    <tr>\n",
       "      <th>прямоугольник</th>\n",
       "      <td>0.772479</td>\n",
       "    </tr>\n",
       "    <tr>\n",
       "      <th>параллелепипед</th>\n",
       "      <td>0.749473</td>\n",
       "    </tr>\n",
       "    <tr>\n",
       "      <th>треугольник</th>\n",
       "      <td>0.741927</td>\n",
       "    </tr>\n",
       "    <tr>\n",
       "      <th>четырёхугольник</th>\n",
       "      <td>0.741491</td>\n",
       "    </tr>\n",
       "    <tr>\n",
       "      <th>ромб</th>\n",
       "      <td>0.728660</td>\n",
       "    </tr>\n",
       "    <tr>\n",
       "      <th>геометрия</th>\n",
       "      <td>0.712658</td>\n",
       "    </tr>\n",
       "    <tr>\n",
       "      <th>углы</th>\n",
       "      <td>0.709029</td>\n",
       "    </tr>\n",
       "  </tbody>\n",
       "</table>\n",
       "</div>"
      ],
      "text/plain": [
       "                 similarity\n",
       "word                       \n",
       "прямоугольник      0.772479\n",
       "параллелепипед     0.749473\n",
       "треугольник        0.741927\n",
       "четырёхугольник    0.741491\n",
       "ромб               0.728660\n",
       "геометрия          0.712658\n",
       "углы               0.709029"
      ]
     },
     "execution_count": 65,
     "metadata": {},
     "output_type": "execute_result"
    }
   ],
   "source": [
    "get_similar('квадрат', count=7)"
   ]
  },
  {
   "cell_type": "code",
   "execution_count": 66,
   "metadata": {},
   "outputs": [
    {
     "data": {
      "text/html": [
       "<div>\n",
       "<style scoped>\n",
       "    .dataframe tbody tr th:only-of-type {\n",
       "        vertical-align: middle;\n",
       "    }\n",
       "\n",
       "    .dataframe tbody tr th {\n",
       "        vertical-align: top;\n",
       "    }\n",
       "\n",
       "    .dataframe thead th {\n",
       "        text-align: right;\n",
       "    }\n",
       "</style>\n",
       "<table border=\"1\" class=\"dataframe\">\n",
       "  <thead>\n",
       "    <tr style=\"text-align: right;\">\n",
       "      <th></th>\n",
       "      <th>similarity</th>\n",
       "    </tr>\n",
       "    <tr>\n",
       "      <th>word</th>\n",
       "      <th></th>\n",
       "    </tr>\n",
       "  </thead>\n",
       "  <tbody>\n",
       "    <tr>\n",
       "      <th>роджер желязны</th>\n",
       "      <td>0.814984</td>\n",
       "    </tr>\n",
       "    <tr>\n",
       "      <th>фантаст</th>\n",
       "      <td>0.739293</td>\n",
       "    </tr>\n",
       "    <tr>\n",
       "      <th>дуглас адамс</th>\n",
       "      <td>0.666545</td>\n",
       "    </tr>\n",
       "    <tr>\n",
       "      <th>айзек азимов</th>\n",
       "      <td>0.647544</td>\n",
       "    </tr>\n",
       "    <tr>\n",
       "      <th>станислав лем</th>\n",
       "      <td>0.644610</td>\n",
       "    </tr>\n",
       "    <tr>\n",
       "      <th>рэй брэдбери</th>\n",
       "      <td>0.605876</td>\n",
       "    </tr>\n",
       "    <tr>\n",
       "      <th>голова профессора доуэля</th>\n",
       "      <td>0.603078</td>\n",
       "    </tr>\n",
       "    <tr>\n",
       "      <th>лукьяненко</th>\n",
       "      <td>0.584134</td>\n",
       "    </tr>\n",
       "    <tr>\n",
       "      <th>александр беляев</th>\n",
       "      <td>0.576634</td>\n",
       "    </tr>\n",
       "    <tr>\n",
       "      <th>техносфера</th>\n",
       "      <td>0.575560</td>\n",
       "    </tr>\n",
       "  </tbody>\n",
       "</table>\n",
       "</div>"
      ],
      "text/plain": [
       "                          similarity\n",
       "word                                \n",
       "роджер желязны              0.814984\n",
       "фантаст                     0.739293\n",
       "дуглас адамс                0.666545\n",
       "айзек азимов                0.647544\n",
       "станислав лем               0.644610\n",
       "рэй брэдбери                0.605876\n",
       "голова профессора доуэля    0.603078\n",
       "лукьяненко                  0.584134\n",
       "александр беляев            0.576634\n",
       "техносфера                  0.575560"
      ]
     },
     "execution_count": 66,
     "metadata": {},
     "output_type": "execute_result"
    }
   ],
   "source": [
    "get_similar('роберт шекли', count=10)"
   ]
  },
  {
   "cell_type": "code",
   "execution_count": 67,
   "metadata": {},
   "outputs": [
    {
     "data": {
      "text/html": [
       "<div>\n",
       "<style scoped>\n",
       "    .dataframe tbody tr th:only-of-type {\n",
       "        vertical-align: middle;\n",
       "    }\n",
       "\n",
       "    .dataframe tbody tr th {\n",
       "        vertical-align: top;\n",
       "    }\n",
       "\n",
       "    .dataframe thead th {\n",
       "        text-align: right;\n",
       "    }\n",
       "</style>\n",
       "<table border=\"1\" class=\"dataframe\">\n",
       "  <thead>\n",
       "    <tr style=\"text-align: right;\">\n",
       "      <th></th>\n",
       "      <th>similarity</th>\n",
       "    </tr>\n",
       "    <tr>\n",
       "      <th>word</th>\n",
       "      <th></th>\n",
       "    </tr>\n",
       "  </thead>\n",
       "  <tbody>\n",
       "    <tr>\n",
       "      <th>скауты</th>\n",
       "      <td>0.485325</td>\n",
       "    </tr>\n",
       "    <tr>\n",
       "      <th>детский писатель</th>\n",
       "      <td>0.461091</td>\n",
       "    </tr>\n",
       "    <tr>\n",
       "      <th>октябрята</th>\n",
       "      <td>0.429327</td>\n",
       "    </tr>\n",
       "    <tr>\n",
       "      <th>гайдар</th>\n",
       "      <td>0.391885</td>\n",
       "    </tr>\n",
       "    <tr>\n",
       "      <th>пионерский лагерь</th>\n",
       "      <td>0.389205</td>\n",
       "    </tr>\n",
       "    <tr>\n",
       "      <th>пионеры</th>\n",
       "      <td>0.385447</td>\n",
       "    </tr>\n",
       "    <tr>\n",
       "      <th>командообразование</th>\n",
       "      <td>0.376164</td>\n",
       "    </tr>\n",
       "    <tr>\n",
       "      <th>военная тайна</th>\n",
       "      <td>0.367057</td>\n",
       "    </tr>\n",
       "    <tr>\n",
       "      <th>тимур</th>\n",
       "      <td>0.352638</td>\n",
       "    </tr>\n",
       "    <tr>\n",
       "      <th>чип и дейл</th>\n",
       "      <td>0.352383</td>\n",
       "    </tr>\n",
       "  </tbody>\n",
       "</table>\n",
       "</div>"
      ],
      "text/plain": [
       "                    similarity\n",
       "word                          \n",
       "скауты                0.485325\n",
       "детский писатель      0.461091\n",
       "октябрята             0.429327\n",
       "гайдар                0.391885\n",
       "пионерский лагерь     0.389205\n",
       "пионеры               0.385447\n",
       "командообразование    0.376164\n",
       "военная тайна         0.367057\n",
       "тимур                 0.352638\n",
       "чип и дейл            0.352383"
      ]
     },
     "execution_count": 67,
     "metadata": {},
     "output_type": "execute_result"
    }
   ],
   "source": [
    "get_similar('тимур и его команда', count=10)"
   ]
  },
  {
   "cell_type": "code",
   "execution_count": 68,
   "metadata": {},
   "outputs": [
    {
     "data": {
      "text/html": [
       "<div>\n",
       "<style scoped>\n",
       "    .dataframe tbody tr th:only-of-type {\n",
       "        vertical-align: middle;\n",
       "    }\n",
       "\n",
       "    .dataframe tbody tr th {\n",
       "        vertical-align: top;\n",
       "    }\n",
       "\n",
       "    .dataframe thead th {\n",
       "        text-align: right;\n",
       "    }\n",
       "</style>\n",
       "<table border=\"1\" class=\"dataframe\">\n",
       "  <thead>\n",
       "    <tr style=\"text-align: right;\">\n",
       "      <th></th>\n",
       "      <th>similarity</th>\n",
       "    </tr>\n",
       "    <tr>\n",
       "      <th>word</th>\n",
       "      <th></th>\n",
       "    </tr>\n",
       "  </thead>\n",
       "  <tbody>\n",
       "    <tr>\n",
       "      <th>киянка</th>\n",
       "      <td>0.627503</td>\n",
       "    </tr>\n",
       "    <tr>\n",
       "      <th>клавикорд</th>\n",
       "      <td>0.624433</td>\n",
       "    </tr>\n",
       "    <tr>\n",
       "      <th>пассатижи</th>\n",
       "      <td>0.623281</td>\n",
       "    </tr>\n",
       "    <tr>\n",
       "      <th>зубрило</th>\n",
       "      <td>0.618656</td>\n",
       "    </tr>\n",
       "    <tr>\n",
       "      <th>гвоздодёр</th>\n",
       "      <td>0.584791</td>\n",
       "    </tr>\n",
       "    <tr>\n",
       "      <th>долото</th>\n",
       "      <td>0.568527</td>\n",
       "    </tr>\n",
       "    <tr>\n",
       "      <th>инструмент</th>\n",
       "      <td>0.566573</td>\n",
       "    </tr>\n",
       "    <tr>\n",
       "      <th>молоток</th>\n",
       "      <td>0.562166</td>\n",
       "    </tr>\n",
       "    <tr>\n",
       "      <th>напильник</th>\n",
       "      <td>0.541395</td>\n",
       "    </tr>\n",
       "    <tr>\n",
       "      <th>стамеска</th>\n",
       "      <td>0.540635</td>\n",
       "    </tr>\n",
       "  </tbody>\n",
       "</table>\n",
       "</div>"
      ],
      "text/plain": [
       "            similarity\n",
       "word                  \n",
       "киянка        0.627503\n",
       "клавикорд     0.624433\n",
       "пассатижи     0.623281\n",
       "зубрило       0.618656\n",
       "гвоздодёр     0.584791\n",
       "долото        0.568527\n",
       "инструмент    0.566573\n",
       "молоток       0.562166\n",
       "напильник     0.541395\n",
       "стамеска      0.540635"
      ]
     },
     "execution_count": 68,
     "metadata": {},
     "output_type": "execute_result"
    }
   ],
   "source": [
    "get_similar('инструментарий', count=10)"
   ]
  },
  {
   "cell_type": "code",
   "execution_count": 69,
   "metadata": {},
   "outputs": [
    {
     "data": {
      "text/html": [
       "<div>\n",
       "<style scoped>\n",
       "    .dataframe tbody tr th:only-of-type {\n",
       "        vertical-align: middle;\n",
       "    }\n",
       "\n",
       "    .dataframe tbody tr th {\n",
       "        vertical-align: top;\n",
       "    }\n",
       "\n",
       "    .dataframe thead th {\n",
       "        text-align: right;\n",
       "    }\n",
       "</style>\n",
       "<table border=\"1\" class=\"dataframe\">\n",
       "  <thead>\n",
       "    <tr style=\"text-align: right;\">\n",
       "      <th></th>\n",
       "      <th>similarity</th>\n",
       "    </tr>\n",
       "    <tr>\n",
       "      <th>word</th>\n",
       "      <th></th>\n",
       "    </tr>\n",
       "  </thead>\n",
       "  <tbody>\n",
       "    <tr>\n",
       "      <th>бурый цвет</th>\n",
       "      <td>0.399054</td>\n",
       "    </tr>\n",
       "    <tr>\n",
       "      <th>топтыгин</th>\n",
       "      <td>0.397614</td>\n",
       "    </tr>\n",
       "    <tr>\n",
       "      <th>мультяшка</th>\n",
       "      <td>0.364336</td>\n",
       "    </tr>\n",
       "    <tr>\n",
       "      <th>берлога</th>\n",
       "      <td>0.362444</td>\n",
       "    </tr>\n",
       "    <tr>\n",
       "      <th>всеядность</th>\n",
       "      <td>0.360414</td>\n",
       "    </tr>\n",
       "    <tr>\n",
       "      <th>норштейн</th>\n",
       "      <td>0.359966</td>\n",
       "    </tr>\n",
       "    <tr>\n",
       "      <th>бурый медведь</th>\n",
       "      <td>0.357576</td>\n",
       "    </tr>\n",
       "    <tr>\n",
       "      <th>топтун</th>\n",
       "      <td>0.352973</td>\n",
       "    </tr>\n",
       "    <tr>\n",
       "      <th>привидения</th>\n",
       "      <td>0.339674</td>\n",
       "    </tr>\n",
       "    <tr>\n",
       "      <th>гризли</th>\n",
       "      <td>0.333934</td>\n",
       "    </tr>\n",
       "  </tbody>\n",
       "</table>\n",
       "</div>"
      ],
      "text/plain": [
       "               similarity\n",
       "word                     \n",
       "бурый цвет       0.399054\n",
       "топтыгин         0.397614\n",
       "мультяшка        0.364336\n",
       "берлога          0.362444\n",
       "всеядность       0.360414\n",
       "норштейн         0.359966\n",
       "бурый медведь    0.357576\n",
       "топтун           0.352973\n",
       "привидения       0.339674\n",
       "гризли           0.333934"
      ]
     },
     "execution_count": 69,
     "metadata": {},
     "output_type": "execute_result"
    }
   ],
   "source": [
    "get_similar('медвежуть', count=10)"
   ]
  },
  {
   "cell_type": "code",
   "execution_count": 70,
   "metadata": {},
   "outputs": [
    {
     "data": {
      "text/html": [
       "<div>\n",
       "<style scoped>\n",
       "    .dataframe tbody tr th:only-of-type {\n",
       "        vertical-align: middle;\n",
       "    }\n",
       "\n",
       "    .dataframe tbody tr th {\n",
       "        vertical-align: top;\n",
       "    }\n",
       "\n",
       "    .dataframe thead th {\n",
       "        text-align: right;\n",
       "    }\n",
       "</style>\n",
       "<table border=\"1\" class=\"dataframe\">\n",
       "  <thead>\n",
       "    <tr style=\"text-align: right;\">\n",
       "      <th></th>\n",
       "      <th>similarity</th>\n",
       "    </tr>\n",
       "    <tr>\n",
       "      <th>word</th>\n",
       "      <th></th>\n",
       "    </tr>\n",
       "  </thead>\n",
       "  <tbody>\n",
       "    <tr>\n",
       "      <th>добро</th>\n",
       "      <td>0.763855</td>\n",
       "    </tr>\n",
       "    <tr>\n",
       "      <th>сердечность</th>\n",
       "      <td>0.704085</td>\n",
       "    </tr>\n",
       "    <tr>\n",
       "      <th>милосердие</th>\n",
       "      <td>0.697351</td>\n",
       "    </tr>\n",
       "    <tr>\n",
       "      <th>добродетель</th>\n",
       "      <td>0.687927</td>\n",
       "    </tr>\n",
       "    <tr>\n",
       "      <th>добродушие</th>\n",
       "      <td>0.676433</td>\n",
       "    </tr>\n",
       "    <tr>\n",
       "      <th>сострадание</th>\n",
       "      <td>0.667714</td>\n",
       "    </tr>\n",
       "    <tr>\n",
       "      <th>человеколюбие</th>\n",
       "      <td>0.645881</td>\n",
       "    </tr>\n",
       "    <tr>\n",
       "      <th>великодушие</th>\n",
       "      <td>0.644186</td>\n",
       "    </tr>\n",
       "    <tr>\n",
       "      <th>доброжелательность</th>\n",
       "      <td>0.641481</td>\n",
       "    </tr>\n",
       "    <tr>\n",
       "      <th>радушие</th>\n",
       "      <td>0.628881</td>\n",
       "    </tr>\n",
       "  </tbody>\n",
       "</table>\n",
       "</div>"
      ],
      "text/plain": [
       "                    similarity\n",
       "word                          \n",
       "добро                 0.763855\n",
       "сердечность           0.704085\n",
       "милосердие            0.697351\n",
       "добродетель           0.687927\n",
       "добродушие            0.676433\n",
       "сострадание           0.667714\n",
       "человеколюбие         0.645881\n",
       "великодушие           0.644186\n",
       "доброжелательность    0.641481\n",
       "радушие               0.628881"
      ]
     },
     "execution_count": 70,
     "metadata": {},
     "output_type": "execute_result"
    }
   ],
   "source": [
    "get_similar('доброта')"
   ]
  },
  {
   "cell_type": "code",
   "execution_count": 71,
   "metadata": {},
   "outputs": [
    {
     "data": {
      "text/html": [
       "<div>\n",
       "<style scoped>\n",
       "    .dataframe tbody tr th:only-of-type {\n",
       "        vertical-align: middle;\n",
       "    }\n",
       "\n",
       "    .dataframe tbody tr th {\n",
       "        vertical-align: top;\n",
       "    }\n",
       "\n",
       "    .dataframe thead th {\n",
       "        text-align: right;\n",
       "    }\n",
       "</style>\n",
       "<table border=\"1\" class=\"dataframe\">\n",
       "  <thead>\n",
       "    <tr style=\"text-align: right;\">\n",
       "      <th></th>\n",
       "      <th>similarity</th>\n",
       "    </tr>\n",
       "    <tr>\n",
       "      <th>word</th>\n",
       "      <th></th>\n",
       "    </tr>\n",
       "  </thead>\n",
       "  <tbody>\n",
       "    <tr>\n",
       "      <th>бескорыстность</th>\n",
       "      <td>0.665653</td>\n",
       "    </tr>\n",
       "    <tr>\n",
       "      <th>благотворительность</th>\n",
       "      <td>0.633934</td>\n",
       "    </tr>\n",
       "    <tr>\n",
       "      <th>бескорыстие</th>\n",
       "      <td>0.626533</td>\n",
       "    </tr>\n",
       "  </tbody>\n",
       "</table>\n",
       "</div>"
      ],
      "text/plain": [
       "                     similarity\n",
       "word                           \n",
       "бескорыстность         0.665653\n",
       "благотворительность    0.633934\n",
       "бескорыстие            0.626533"
      ]
     },
     "execution_count": 71,
     "metadata": {},
     "output_type": "execute_result"
    }
   ],
   "source": [
    "get_similar('безвозмездность', count=3)"
   ]
  },
  {
   "cell_type": "code",
   "execution_count": 72,
   "metadata": {},
   "outputs": [
    {
     "data": {
      "text/html": [
       "<div>\n",
       "<style scoped>\n",
       "    .dataframe tbody tr th:only-of-type {\n",
       "        vertical-align: middle;\n",
       "    }\n",
       "\n",
       "    .dataframe tbody tr th {\n",
       "        vertical-align: top;\n",
       "    }\n",
       "\n",
       "    .dataframe thead th {\n",
       "        text-align: right;\n",
       "    }\n",
       "</style>\n",
       "<table border=\"1\" class=\"dataframe\">\n",
       "  <thead>\n",
       "    <tr style=\"text-align: right;\">\n",
       "      <th></th>\n",
       "      <th>similarity</th>\n",
       "    </tr>\n",
       "    <tr>\n",
       "      <th>word</th>\n",
       "      <th></th>\n",
       "    </tr>\n",
       "  </thead>\n",
       "  <tbody>\n",
       "    <tr>\n",
       "      <th>необычность</th>\n",
       "      <td>0.534394</td>\n",
       "    </tr>\n",
       "    <tr>\n",
       "      <th>неординарность</th>\n",
       "      <td>0.496574</td>\n",
       "    </tr>\n",
       "    <tr>\n",
       "      <th>уникальность</th>\n",
       "      <td>0.463565</td>\n",
       "    </tr>\n",
       "    <tr>\n",
       "      <th>нестандартность</th>\n",
       "      <td>0.454107</td>\n",
       "    </tr>\n",
       "    <tr>\n",
       "      <th>специфичность</th>\n",
       "      <td>0.431959</td>\n",
       "    </tr>\n",
       "  </tbody>\n",
       "</table>\n",
       "</div>"
      ],
      "text/plain": [
       "                 similarity\n",
       "word                       \n",
       "необычность        0.534394\n",
       "неординарность     0.496574\n",
       "уникальность       0.463565\n",
       "нестандартность    0.454107\n",
       "специфичность      0.431959"
      ]
     },
     "execution_count": 72,
     "metadata": {},
     "output_type": "execute_result"
    }
   ],
   "source": [
    "get_similar('странность', count=5)"
   ]
  },
  {
   "cell_type": "code",
   "execution_count": 73,
   "metadata": {},
   "outputs": [
    {
     "data": {
      "text/html": [
       "<div>\n",
       "<style scoped>\n",
       "    .dataframe tbody tr th:only-of-type {\n",
       "        vertical-align: middle;\n",
       "    }\n",
       "\n",
       "    .dataframe tbody tr th {\n",
       "        vertical-align: top;\n",
       "    }\n",
       "\n",
       "    .dataframe thead th {\n",
       "        text-align: right;\n",
       "    }\n",
       "</style>\n",
       "<table border=\"1\" class=\"dataframe\">\n",
       "  <thead>\n",
       "    <tr style=\"text-align: right;\">\n",
       "      <th></th>\n",
       "      <th>similarity</th>\n",
       "    </tr>\n",
       "    <tr>\n",
       "      <th>word</th>\n",
       "      <th></th>\n",
       "    </tr>\n",
       "  </thead>\n",
       "  <tbody>\n",
       "    <tr>\n",
       "      <th>красавица</th>\n",
       "      <td>0.427106</td>\n",
       "    </tr>\n",
       "    <tr>\n",
       "      <th>красотка</th>\n",
       "      <td>0.419579</td>\n",
       "    </tr>\n",
       "  </tbody>\n",
       "</table>\n",
       "</div>"
      ],
      "text/plain": [
       "           similarity\n",
       "word                 \n",
       "красавица    0.427106\n",
       "красотка     0.419579"
      ]
     },
     "execution_count": 73,
     "metadata": {},
     "output_type": "execute_result"
    }
   ],
   "source": [
    "get_similar('женщина,девушка,-мужчина,-мужик', count=2)"
   ]
  },
  {
   "cell_type": "code",
   "execution_count": 74,
   "metadata": {},
   "outputs": [
    {
     "data": {
      "text/html": [
       "<div>\n",
       "<style scoped>\n",
       "    .dataframe tbody tr th:only-of-type {\n",
       "        vertical-align: middle;\n",
       "    }\n",
       "\n",
       "    .dataframe tbody tr th {\n",
       "        vertical-align: top;\n",
       "    }\n",
       "\n",
       "    .dataframe thead th {\n",
       "        text-align: right;\n",
       "    }\n",
       "</style>\n",
       "<table border=\"1\" class=\"dataframe\">\n",
       "  <thead>\n",
       "    <tr style=\"text-align: right;\">\n",
       "      <th></th>\n",
       "      <th>similarity</th>\n",
       "    </tr>\n",
       "    <tr>\n",
       "      <th>word</th>\n",
       "      <th></th>\n",
       "    </tr>\n",
       "  </thead>\n",
       "  <tbody>\n",
       "    <tr>\n",
       "      <th>мужлан</th>\n",
       "      <td>0.353025</td>\n",
       "    </tr>\n",
       "    <tr>\n",
       "      <th>альфа-самец</th>\n",
       "      <td>0.333147</td>\n",
       "    </tr>\n",
       "    <tr>\n",
       "      <th>мачо</th>\n",
       "      <td>0.313318</td>\n",
       "    </tr>\n",
       "  </tbody>\n",
       "</table>\n",
       "</div>"
      ],
      "text/plain": [
       "             similarity\n",
       "word                   \n",
       "мужлан         0.353025\n",
       "альфа-самец    0.333147\n",
       "мачо           0.313318"
      ]
     },
     "execution_count": 74,
     "metadata": {},
     "output_type": "execute_result"
    }
   ],
   "source": [
    "get_similar('мужчина,мужик,-женщина,-девушка', count=3)"
   ]
  },
  {
   "cell_type": "code",
   "execution_count": 75,
   "metadata": {},
   "outputs": [
    {
     "data": {
      "text/html": [
       "<div>\n",
       "<style scoped>\n",
       "    .dataframe tbody tr th:only-of-type {\n",
       "        vertical-align: middle;\n",
       "    }\n",
       "\n",
       "    .dataframe tbody tr th {\n",
       "        vertical-align: top;\n",
       "    }\n",
       "\n",
       "    .dataframe thead th {\n",
       "        text-align: right;\n",
       "    }\n",
       "</style>\n",
       "<table border=\"1\" class=\"dataframe\">\n",
       "  <thead>\n",
       "    <tr style=\"text-align: right;\">\n",
       "      <th></th>\n",
       "      <th>similarity</th>\n",
       "    </tr>\n",
       "    <tr>\n",
       "      <th>word</th>\n",
       "      <th></th>\n",
       "    </tr>\n",
       "  </thead>\n",
       "  <tbody>\n",
       "    <tr>\n",
       "      <th>перец</th>\n",
       "      <td>0.499872</td>\n",
       "    </tr>\n",
       "    <tr>\n",
       "      <th>фа</th>\n",
       "      <td>0.499244</td>\n",
       "    </tr>\n",
       "    <tr>\n",
       "      <th>ре</th>\n",
       "      <td>0.489227</td>\n",
       "    </tr>\n",
       "    <tr>\n",
       "      <th>ля</th>\n",
       "      <td>0.473073</td>\n",
       "    </tr>\n",
       "    <tr>\n",
       "      <th>си</th>\n",
       "      <td>0.466800</td>\n",
       "    </tr>\n",
       "  </tbody>\n",
       "</table>\n",
       "</div>"
      ],
      "text/plain": [
       "       similarity\n",
       "word             \n",
       "перец    0.499872\n",
       "фа       0.499244\n",
       "ре       0.489227\n",
       "ля       0.473073\n",
       "си       0.466800"
      ]
     },
     "execution_count": 75,
     "metadata": {},
     "output_type": "execute_result"
    }
   ],
   "source": [
    "get_similar('соль', count=5)"
   ]
  },
  {
   "cell_type": "code",
   "execution_count": 76,
   "metadata": {},
   "outputs": [
    {
     "data": {
      "text/html": [
       "<div>\n",
       "<style scoped>\n",
       "    .dataframe tbody tr th:only-of-type {\n",
       "        vertical-align: middle;\n",
       "    }\n",
       "\n",
       "    .dataframe tbody tr th {\n",
       "        vertical-align: top;\n",
       "    }\n",
       "\n",
       "    .dataframe thead th {\n",
       "        text-align: right;\n",
       "    }\n",
       "</style>\n",
       "<table border=\"1\" class=\"dataframe\">\n",
       "  <thead>\n",
       "    <tr style=\"text-align: right;\">\n",
       "      <th></th>\n",
       "      <th>similarity</th>\n",
       "    </tr>\n",
       "    <tr>\n",
       "      <th>word</th>\n",
       "      <th></th>\n",
       "    </tr>\n",
       "  </thead>\n",
       "  <tbody>\n",
       "    <tr>\n",
       "      <th>перец</th>\n",
       "      <td>0.404399</td>\n",
       "    </tr>\n",
       "    <tr>\n",
       "      <th>горчица</th>\n",
       "      <td>0.375945</td>\n",
       "    </tr>\n",
       "    <tr>\n",
       "      <th>уксус</th>\n",
       "      <td>0.373835</td>\n",
       "    </tr>\n",
       "    <tr>\n",
       "      <th>приправа</th>\n",
       "      <td>0.373037</td>\n",
       "    </tr>\n",
       "    <tr>\n",
       "      <th>паприка</th>\n",
       "      <td>0.350440</td>\n",
       "    </tr>\n",
       "    <tr>\n",
       "      <th>аджика</th>\n",
       "      <td>0.345090</td>\n",
       "    </tr>\n",
       "    <tr>\n",
       "      <th>рассол</th>\n",
       "      <td>0.344369</td>\n",
       "    </tr>\n",
       "    <tr>\n",
       "      <th>маринад</th>\n",
       "      <td>0.337871</td>\n",
       "    </tr>\n",
       "    <tr>\n",
       "      <th>чеснок</th>\n",
       "      <td>0.337394</td>\n",
       "    </tr>\n",
       "    <tr>\n",
       "      <th>соли</th>\n",
       "      <td>0.337292</td>\n",
       "    </tr>\n",
       "  </tbody>\n",
       "</table>\n",
       "</div>"
      ],
      "text/plain": [
       "          similarity\n",
       "word                \n",
       "перец       0.404399\n",
       "горчица     0.375945\n",
       "уксус       0.373835\n",
       "приправа    0.373037\n",
       "паприка     0.350440\n",
       "аджика      0.345090\n",
       "рассол      0.344369\n",
       "маринад     0.337871\n",
       "чеснок      0.337394\n",
       "соли        0.337292"
      ]
     },
     "execution_count": 76,
     "metadata": {},
     "output_type": "execute_result"
    }
   ],
   "source": [
    "get_similar('соль,-нота')"
   ]
  },
  {
   "cell_type": "code",
   "execution_count": 170,
   "metadata": {},
   "outputs": [
    {
     "data": {
      "text/html": [
       "<div>\n",
       "<style scoped>\n",
       "    .dataframe tbody tr th:only-of-type {\n",
       "        vertical-align: middle;\n",
       "    }\n",
       "\n",
       "    .dataframe tbody tr th {\n",
       "        vertical-align: top;\n",
       "    }\n",
       "\n",
       "    .dataframe thead th {\n",
       "        text-align: right;\n",
       "    }\n",
       "</style>\n",
       "<table border=\"1\" class=\"dataframe\">\n",
       "  <thead>\n",
       "    <tr style=\"text-align: right;\">\n",
       "      <th></th>\n",
       "      <th>similarity</th>\n",
       "    </tr>\n",
       "    <tr>\n",
       "      <th>word</th>\n",
       "      <th></th>\n",
       "    </tr>\n",
       "  </thead>\n",
       "  <tbody>\n",
       "    <tr>\n",
       "      <th>мангуст</th>\n",
       "      <td>0.705134</td>\n",
       "    </tr>\n",
       "    <tr>\n",
       "      <th>маугли</th>\n",
       "      <td>0.557264</td>\n",
       "    </tr>\n",
       "    <tr>\n",
       "      <th>киплинг</th>\n",
       "      <td>0.526887</td>\n",
       "    </tr>\n",
       "  </tbody>\n",
       "</table>\n",
       "</div>"
      ],
      "text/plain": [
       "         similarity\n",
       "word               \n",
       "мангуст    0.705134\n",
       "маугли     0.557264\n",
       "киплинг    0.526887"
      ]
     },
     "execution_count": 170,
     "metadata": {},
     "output_type": "execute_result"
    }
   ],
   "source": [
    "get_similar('рикки-тикки-тави', count=3)"
   ]
  },
  {
   "cell_type": "code",
   "execution_count": 171,
   "metadata": {},
   "outputs": [
    {
     "data": {
      "text/html": [
       "<div>\n",
       "<style scoped>\n",
       "    .dataframe tbody tr th:only-of-type {\n",
       "        vertical-align: middle;\n",
       "    }\n",
       "\n",
       "    .dataframe tbody tr th {\n",
       "        vertical-align: top;\n",
       "    }\n",
       "\n",
       "    .dataframe thead th {\n",
       "        text-align: right;\n",
       "    }\n",
       "</style>\n",
       "<table border=\"1\" class=\"dataframe\">\n",
       "  <thead>\n",
       "    <tr style=\"text-align: right;\">\n",
       "      <th></th>\n",
       "      <th>similarity</th>\n",
       "    </tr>\n",
       "    <tr>\n",
       "      <th>word</th>\n",
       "      <th></th>\n",
       "    </tr>\n",
       "  </thead>\n",
       "  <tbody>\n",
       "    <tr>\n",
       "      <th>фотограф</th>\n",
       "      <td>0.657098</td>\n",
       "    </tr>\n",
       "    <tr>\n",
       "      <th>позирование</th>\n",
       "      <td>0.599602</td>\n",
       "    </tr>\n",
       "    <tr>\n",
       "      <th>фотография</th>\n",
       "      <td>0.533045</td>\n",
       "    </tr>\n",
       "  </tbody>\n",
       "</table>\n",
       "</div>"
      ],
      "text/plain": [
       "             similarity\n",
       "word                   \n",
       "фотограф       0.657098\n",
       "позирование    0.599602\n",
       "фотография     0.533045"
      ]
     },
     "execution_count": 171,
     "metadata": {},
     "output_type": "execute_result"
    }
   ],
   "source": [
    "get_similar('фотосессия', count=3)"
   ]
  },
  {
   "cell_type": "code",
   "execution_count": 198,
   "metadata": {},
   "outputs": [
    {
     "data": {
      "text/html": [
       "<div>\n",
       "<style scoped>\n",
       "    .dataframe tbody tr th:only-of-type {\n",
       "        vertical-align: middle;\n",
       "    }\n",
       "\n",
       "    .dataframe tbody tr th {\n",
       "        vertical-align: top;\n",
       "    }\n",
       "\n",
       "    .dataframe thead th {\n",
       "        text-align: right;\n",
       "    }\n",
       "</style>\n",
       "<table border=\"1\" class=\"dataframe\">\n",
       "  <thead>\n",
       "    <tr style=\"text-align: right;\">\n",
       "      <th></th>\n",
       "      <th>similarity</th>\n",
       "    </tr>\n",
       "    <tr>\n",
       "      <th>word</th>\n",
       "      <th></th>\n",
       "    </tr>\n",
       "  </thead>\n",
       "  <tbody>\n",
       "    <tr>\n",
       "      <th>учёная степень</th>\n",
       "      <td>0.776008</td>\n",
       "    </tr>\n",
       "    <tr>\n",
       "      <th>аспирант</th>\n",
       "      <td>0.745037</td>\n",
       "    </tr>\n",
       "    <tr>\n",
       "      <th>доцент</th>\n",
       "      <td>0.735436</td>\n",
       "    </tr>\n",
       "    <tr>\n",
       "      <th>академик</th>\n",
       "      <td>0.714776</td>\n",
       "    </tr>\n",
       "    <tr>\n",
       "      <th>доктор наук</th>\n",
       "      <td>0.684844</td>\n",
       "    </tr>\n",
       "    <tr>\n",
       "      <th>диссертация</th>\n",
       "      <td>0.684797</td>\n",
       "    </tr>\n",
       "    <tr>\n",
       "      <th>академгородок</th>\n",
       "      <td>0.636815</td>\n",
       "    </tr>\n",
       "    <tr>\n",
       "      <th>магистр</th>\n",
       "      <td>0.626043</td>\n",
       "    </tr>\n",
       "    <tr>\n",
       "      <th>учёный совет</th>\n",
       "      <td>0.620870</td>\n",
       "    </tr>\n",
       "    <tr>\n",
       "      <th>нии</th>\n",
       "      <td>0.614904</td>\n",
       "    </tr>\n",
       "  </tbody>\n",
       "</table>\n",
       "</div>"
      ],
      "text/plain": [
       "                similarity\n",
       "word                      \n",
       "учёная степень    0.776008\n",
       "аспирант          0.745037\n",
       "доцент            0.735436\n",
       "академик          0.714776\n",
       "доктор наук       0.684844\n",
       "диссертация       0.684797\n",
       "академгородок     0.636815\n",
       "магистр           0.626043\n",
       "учёный совет      0.620870\n",
       "нии               0.614904"
      ]
     },
     "execution_count": 198,
     "metadata": {},
     "output_type": "execute_result"
    }
   ],
   "source": [
    "get_similar('научный сотрудник')"
   ]
  },
  {
   "cell_type": "code",
   "execution_count": 246,
   "metadata": {},
   "outputs": [
    {
     "data": {
      "text/html": [
       "<div>\n",
       "<style scoped>\n",
       "    .dataframe tbody tr th:only-of-type {\n",
       "        vertical-align: middle;\n",
       "    }\n",
       "\n",
       "    .dataframe tbody tr th {\n",
       "        vertical-align: top;\n",
       "    }\n",
       "\n",
       "    .dataframe thead th {\n",
       "        text-align: right;\n",
       "    }\n",
       "</style>\n",
       "<table border=\"1\" class=\"dataframe\">\n",
       "  <thead>\n",
       "    <tr style=\"text-align: right;\">\n",
       "      <th></th>\n",
       "      <th>similarity</th>\n",
       "    </tr>\n",
       "    <tr>\n",
       "      <th>word</th>\n",
       "      <th></th>\n",
       "    </tr>\n",
       "  </thead>\n",
       "  <tbody>\n",
       "    <tr>\n",
       "      <th>крышечка</th>\n",
       "      <td>0.492089</td>\n",
       "    </tr>\n",
       "  </tbody>\n",
       "</table>\n",
       "</div>"
      ],
      "text/plain": [
       "          similarity\n",
       "word                \n",
       "крышечка    0.492089"
      ]
     },
     "execution_count": 246,
     "metadata": {},
     "output_type": "execute_result"
    }
   ],
   "source": [
    "get_similar('пуговка,-пуговица,крышка', count=1)"
   ]
  },
  {
   "cell_type": "code",
   "execution_count": 242,
   "metadata": {},
   "outputs": [
    {
     "data": {
      "text/html": [
       "<div>\n",
       "<style scoped>\n",
       "    .dataframe tbody tr th:only-of-type {\n",
       "        vertical-align: middle;\n",
       "    }\n",
       "\n",
       "    .dataframe tbody tr th {\n",
       "        vertical-align: top;\n",
       "    }\n",
       "\n",
       "    .dataframe thead th {\n",
       "        text-align: right;\n",
       "    }\n",
       "</style>\n",
       "<table border=\"1\" class=\"dataframe\">\n",
       "  <thead>\n",
       "    <tr style=\"text-align: right;\">\n",
       "      <th></th>\n",
       "      <th>similarity</th>\n",
       "    </tr>\n",
       "    <tr>\n",
       "      <th>word</th>\n",
       "      <th></th>\n",
       "    </tr>\n",
       "  </thead>\n",
       "  <tbody>\n",
       "    <tr>\n",
       "      <th>медвежонок</th>\n",
       "      <td>0.34249</td>\n",
       "    </tr>\n",
       "  </tbody>\n",
       "</table>\n",
       "</div>"
      ],
      "text/plain": [
       "            similarity\n",
       "word                  \n",
       "медвежонок     0.34249"
      ]
     },
     "execution_count": 242,
     "metadata": {},
     "output_type": "execute_result"
    }
   ],
   "source": [
    "get_similar('коробочка,-коробка,пуговка,-пуговица,носик,-нос,пёсик,-пёс,медведь', count=1)"
   ]
  },
  {
   "cell_type": "code",
   "execution_count": 243,
   "metadata": {},
   "outputs": [
    {
     "data": {
      "text/html": [
       "<div>\n",
       "<style scoped>\n",
       "    .dataframe tbody tr th:only-of-type {\n",
       "        vertical-align: middle;\n",
       "    }\n",
       "\n",
       "    .dataframe tbody tr th {\n",
       "        vertical-align: top;\n",
       "    }\n",
       "\n",
       "    .dataframe thead th {\n",
       "        text-align: right;\n",
       "    }\n",
       "</style>\n",
       "<table border=\"1\" class=\"dataframe\">\n",
       "  <thead>\n",
       "    <tr style=\"text-align: right;\">\n",
       "      <th></th>\n",
       "      <th>similarity</th>\n",
       "    </tr>\n",
       "    <tr>\n",
       "      <th>word</th>\n",
       "      <th></th>\n",
       "    </tr>\n",
       "  </thead>\n",
       "  <tbody>\n",
       "    <tr>\n",
       "      <th>мышонок</th>\n",
       "      <td>0.451238</td>\n",
       "    </tr>\n",
       "  </tbody>\n",
       "</table>\n",
       "</div>"
      ],
      "text/plain": [
       "         similarity\n",
       "word               \n",
       "мышонок    0.451238"
      ]
     },
     "execution_count": 243,
     "metadata": {},
     "output_type": "execute_result"
    }
   ],
   "source": [
    "get_similar('коробочка,-коробка,пуговка,-пуговица,носик,-нос,пёсик,-пёс,мышь', count=1)"
   ]
  },
  {
   "cell_type": "code",
   "execution_count": 284,
   "metadata": {},
   "outputs": [
    {
     "data": {
      "text/html": [
       "<div>\n",
       "<style scoped>\n",
       "    .dataframe tbody tr th:only-of-type {\n",
       "        vertical-align: middle;\n",
       "    }\n",
       "\n",
       "    .dataframe tbody tr th {\n",
       "        vertical-align: top;\n",
       "    }\n",
       "\n",
       "    .dataframe thead th {\n",
       "        text-align: right;\n",
       "    }\n",
       "</style>\n",
       "<table border=\"1\" class=\"dataframe\">\n",
       "  <thead>\n",
       "    <tr style=\"text-align: right;\">\n",
       "      <th></th>\n",
       "      <th>similarity</th>\n",
       "    </tr>\n",
       "    <tr>\n",
       "      <th>word</th>\n",
       "      <th></th>\n",
       "    </tr>\n",
       "  </thead>\n",
       "  <tbody>\n",
       "    <tr>\n",
       "      <th>пенальти</th>\n",
       "      <td>0.628970</td>\n",
       "    </tr>\n",
       "    <tr>\n",
       "      <th>голкипер</th>\n",
       "      <td>0.615618</td>\n",
       "    </tr>\n",
       "    <tr>\n",
       "      <th>кержаков</th>\n",
       "      <td>0.594990</td>\n",
       "    </tr>\n",
       "    <tr>\n",
       "      <th>нападающий</th>\n",
       "      <td>0.590477</td>\n",
       "    </tr>\n",
       "    <tr>\n",
       "      <th>гол</th>\n",
       "      <td>0.589090</td>\n",
       "    </tr>\n",
       "  </tbody>\n",
       "</table>\n",
       "</div>"
      ],
      "text/plain": [
       "            similarity\n",
       "word                  \n",
       "пенальти      0.628970\n",
       "голкипер      0.615618\n",
       "кержаков      0.594990\n",
       "нападающий    0.590477\n",
       "гол           0.589090"
      ]
     },
     "execution_count": 284,
     "metadata": {},
     "output_type": "execute_result"
    }
   ],
   "source": [
    "get_similar('фифа', count=5)"
   ]
  },
  {
   "cell_type": "code",
   "execution_count": 283,
   "metadata": {},
   "outputs": [
    {
     "data": {
      "text/html": [
       "<div>\n",
       "<style scoped>\n",
       "    .dataframe tbody tr th:only-of-type {\n",
       "        vertical-align: middle;\n",
       "    }\n",
       "\n",
       "    .dataframe tbody tr th {\n",
       "        vertical-align: top;\n",
       "    }\n",
       "\n",
       "    .dataframe thead th {\n",
       "        text-align: right;\n",
       "    }\n",
       "</style>\n",
       "<table border=\"1\" class=\"dataframe\">\n",
       "  <thead>\n",
       "    <tr style=\"text-align: right;\">\n",
       "      <th></th>\n",
       "      <th>similarity</th>\n",
       "    </tr>\n",
       "    <tr>\n",
       "      <th>word</th>\n",
       "      <th></th>\n",
       "    </tr>\n",
       "  </thead>\n",
       "  <tbody>\n",
       "    <tr>\n",
       "      <th>фря</th>\n",
       "      <td>0.312235</td>\n",
       "    </tr>\n",
       "    <tr>\n",
       "      <th>цаца</th>\n",
       "      <td>0.284392</td>\n",
       "    </tr>\n",
       "    <tr>\n",
       "      <th>рыцарский поединок</th>\n",
       "      <td>0.280962</td>\n",
       "    </tr>\n",
       "    <tr>\n",
       "      <th>фиона</th>\n",
       "      <td>0.277079</td>\n",
       "    </tr>\n",
       "    <tr>\n",
       "      <th>герцогиня</th>\n",
       "      <td>0.260875</td>\n",
       "    </tr>\n",
       "  </tbody>\n",
       "</table>\n",
       "</div>"
      ],
      "text/plain": [
       "                    similarity\n",
       "word                          \n",
       "фря                   0.312235\n",
       "цаца                  0.284392\n",
       "рыцарский поединок    0.280962\n",
       "фиона                 0.277079\n",
       "герцогиня             0.260875"
      ]
     },
     "execution_count": 283,
     "metadata": {},
     "output_type": "execute_result"
    }
   ],
   "source": [
    "get_similar('фифа,-футбол', count=5)"
   ]
  },
  {
   "cell_type": "code",
   "execution_count": 285,
   "metadata": {},
   "outputs": [
    {
     "data": {
      "text/html": [
       "<div>\n",
       "<style scoped>\n",
       "    .dataframe tbody tr th:only-of-type {\n",
       "        vertical-align: middle;\n",
       "    }\n",
       "\n",
       "    .dataframe tbody tr th {\n",
       "        vertical-align: top;\n",
       "    }\n",
       "\n",
       "    .dataframe thead th {\n",
       "        text-align: right;\n",
       "    }\n",
       "</style>\n",
       "<table border=\"1\" class=\"dataframe\">\n",
       "  <thead>\n",
       "    <tr style=\"text-align: right;\">\n",
       "      <th></th>\n",
       "      <th>similarity</th>\n",
       "    </tr>\n",
       "    <tr>\n",
       "      <th>word</th>\n",
       "      <th></th>\n",
       "    </tr>\n",
       "  </thead>\n",
       "  <tbody>\n",
       "    <tr>\n",
       "      <th>няшность</th>\n",
       "      <td>0.724274</td>\n",
       "    </tr>\n",
       "    <tr>\n",
       "      <th>мимимишечки</th>\n",
       "      <td>0.583773</td>\n",
       "    </tr>\n",
       "    <tr>\n",
       "      <th>котейка</th>\n",
       "      <td>0.570982</td>\n",
       "    </tr>\n",
       "    <tr>\n",
       "      <th>котик</th>\n",
       "      <td>0.542336</td>\n",
       "    </tr>\n",
       "    <tr>\n",
       "      <th>заинька</th>\n",
       "      <td>0.540596</td>\n",
       "    </tr>\n",
       "  </tbody>\n",
       "</table>\n",
       "</div>"
      ],
      "text/plain": [
       "             similarity\n",
       "word                   \n",
       "няшность       0.724274\n",
       "мимимишечки    0.583773\n",
       "котейка        0.570982\n",
       "котик          0.542336\n",
       "заинька        0.540596"
      ]
     },
     "execution_count": 285,
     "metadata": {},
     "output_type": "execute_result"
    }
   ],
   "source": [
    "get_similar('няша', count=5)"
   ]
  },
  {
   "cell_type": "code",
   "execution_count": null,
   "metadata": {
    "collapsed": true
   },
   "outputs": [],
   "source": []
  }
 ],
 "metadata": {
  "kernelspec": {
   "display_name": "Python 3",
   "language": "python",
   "name": "python3"
  },
  "language_info": {
   "codemirror_mode": {
    "name": "ipython",
    "version": 3
   },
   "file_extension": ".py",
   "mimetype": "text/x-python",
   "name": "python",
   "nbconvert_exporter": "python",
   "pygments_lexer": "ipython3",
   "version": "3.6.2"
  }
 },
 "nbformat": 4,
 "nbformat_minor": 2
}
